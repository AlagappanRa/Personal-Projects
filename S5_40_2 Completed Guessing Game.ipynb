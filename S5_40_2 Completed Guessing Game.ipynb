{
 "cells": [
  {
   "cell_type": "raw",
   "id": "9650a79d",
   "metadata": {},
   "source": [
    "# Guessing Game Challenge<br>\n",
    "\n",
    "WELCOME TO GUESS ME!<br>\n",
    "                          \n",
    "I'm thinking of a number between 1 and 100 <br>\n",
    "\n",
    "If your guess is more than 10 away from my number, I'll tell you you're COLD <br>\n",
    "\n",
    "If your guess is within 10 of my number, I'll tell you you're WARM<br>\n",
    "\n",
    "If your guess is farther than your most recent guess, I'll say you're getting COLDER<br>\n",
    "\n",
    "If your guess is closer than your most recent guess, I'll say you're getting WARMER<br> \n",
    "\n",
    "LET'S PLAY"
   ]
  },
  {
   "cell_type": "code",
   "execution_count": 6,
   "id": "a568bb35",
   "metadata": {},
   "outputs": [
    {
     "name": "stdout",
     "output_type": "stream",
     "text": [
      "\n",
      "Enter a number here \n",
      "\n"
     ]
    },
    {
     "ename": "ValueError",
     "evalue": "invalid literal for int() with base 10: ''",
     "output_type": "error",
     "traceback": [
      "\u001b[1;31m---------------------------------------------------------------------------\u001b[0m",
      "\u001b[1;31mValueError\u001b[0m                                Traceback (most recent call last)",
      "\u001b[1;32m~\\AppData\\Local\\Temp/ipykernel_89352/1322673615.py\u001b[0m in \u001b[0;36m<module>\u001b[1;34m\u001b[0m\n\u001b[0;32m      6\u001b[0m \u001b[1;33m\u001b[0m\u001b[0m\n\u001b[0;32m      7\u001b[0m \u001b[1;32mwhile\u001b[0m \u001b[0mmagicnum\u001b[0m \u001b[1;33m!=\u001b[0m \u001b[0mguesslist\u001b[0m\u001b[1;33m[\u001b[0m\u001b[1;33m-\u001b[0m\u001b[1;36m1\u001b[0m\u001b[1;33m]\u001b[0m\u001b[1;33m:\u001b[0m\u001b[1;33m\u001b[0m\u001b[1;33m\u001b[0m\u001b[0m\n\u001b[1;32m----> 8\u001b[1;33m     \u001b[0mn\u001b[0m \u001b[1;33m=\u001b[0m \u001b[0mint\u001b[0m\u001b[1;33m(\u001b[0m\u001b[0minput\u001b[0m\u001b[1;33m(\u001b[0m\u001b[1;34m'\\n'\u001b[0m\u001b[1;33m+\u001b[0m \u001b[1;34m'Enter a number here '\u001b[0m\u001b[1;33m+\u001b[0m \u001b[1;34m'\\n'\u001b[0m\u001b[1;33m)\u001b[0m\u001b[1;33m)\u001b[0m\u001b[1;33m\u001b[0m\u001b[1;33m\u001b[0m\u001b[0m\n\u001b[0m\u001b[0;32m      9\u001b[0m     \u001b[0mguesslist\u001b[0m\u001b[1;33m.\u001b[0m\u001b[0mappend\u001b[0m\u001b[1;33m(\u001b[0m\u001b[0mn\u001b[0m\u001b[1;33m)\u001b[0m\u001b[1;33m\u001b[0m\u001b[1;33m\u001b[0m\u001b[0m\n\u001b[0;32m     10\u001b[0m \u001b[1;33m\u001b[0m\u001b[0m\n",
      "\u001b[1;31mValueError\u001b[0m: invalid literal for int() with base 10: ''"
     ]
    }
   ],
   "source": [
    "from random import randint\n",
    "\n",
    "magicnum = randint(1,100)\n",
    "n = 0\n",
    "guesslist = [-1,-1]\n",
    "\n",
    "while magicnum != guesslist[-1]: \n",
    "    n = int(input('\\n'+ 'Enter a number here '+ '\\n'))\n",
    "    guesslist.append(n)\n",
    "    \n",
    "    if guesslist[-1] < 1 or guesslist[-1] > 100:\n",
    "        print(\"OUT OF BOUNDS\")\n",
    "        continue\n",
    "        \n",
    "    else:\n",
    "        \n",
    "        if guesslist[-2] >= 0:\n",
    "            \n",
    "            a = guesslist[-2]- magicnum\n",
    "            b = guesslist[-1]- magicnum    \n",
    "                \n",
    "            if abs(a) < abs(b):\n",
    "                print(\"\\033[2;31mCOLDER\\033[2;0m\")\n",
    "                #print(guesslist)\n",
    "                #print(magicnum)\n",
    "                \n",
    "            else:\n",
    "                print(\"\\033[2;32mWARMER\\033[2;0m\")\n",
    "                #print(guesslist)\n",
    "                #print(magicnum)\n",
    "        \n",
    "        elif (n- magicnum) == 10 or (n - magicnum) == -10:\n",
    "            print(\"\\033[2;32mWARM\\033[2;0m\")\n",
    "    \n",
    "        elif (n- magicnum) != 10 and (n- magicnum) != -10:\n",
    "            print(\"\\033[2;31mCOLD\\033[2;0m\")\n",
    "            \n",
    "if n == magicnum:\n",
    "    print(f\"You have guessed correctly, the number was {magicnum}\")\n",
    "    print(f\"You took a grand total of {(len(guesslist)-2)} guesses\")   "
   ]
  },
  {
   "cell_type": "markdown",
   "id": "66dc8827",
   "metadata": {},
   "source": []
  },
  {
   "cell_type": "code",
   "execution_count": null,
   "id": "003163cf",
   "metadata": {
    "scrolled": false
   },
   "outputs": [
    {
     "name": "stdout",
     "output_type": "stream",
     "text": [
      "\n",
      "Enter a number here \n",
      "\n",
      "\u001b[1;37;40mINPUT MUST BE AN INTEGER\u001b[2;0m\n",
      "\n",
      "Enter a number here \n",
      "\n",
      "\u001b[1;37;40mINPUT MUST BE AN INTEGER\u001b[2;0m\n",
      "\n",
      "Enter a number here \n",
      "\n",
      "\u001b[1;37;40mINPUT MUST BE AN INTEGER\u001b[2;0m\n",
      "\n",
      "Enter a number here \n",
      "\n",
      "\u001b[1;37;40mINPUT MUST BE AN INTEGER\u001b[2;0m\n",
      "\n",
      "Enter a number here \n",
      "\n",
      "\u001b[1;37;40mINPUT MUST BE AN INTEGER\u001b[2;0m\n",
      "\n",
      "Enter a number here \n",
      "\n",
      "\u001b[1;37;40mINPUT MUST BE AN INTEGER\u001b[2;0m\n",
      "\n",
      "Enter a number here \n",
      "\n",
      "\u001b[1;37;40mINPUT MUST BE AN INTEGER\u001b[2;0m\n",
      "\n",
      "Enter a number here \n",
      "\n",
      "\u001b[1;37;40mINPUT MUST BE AN INTEGER\u001b[2;0m\n",
      "\n",
      "Enter a number here \n",
      "\n",
      "\u001b[1;37;40mINPUT MUST BE AN INTEGER\u001b[2;0m\n",
      "\n",
      "Enter a number here \n",
      "\n",
      "\u001b[1;37;40mINPUT MUST BE AN INTEGER\u001b[2;0m\n"
     ]
    }
   ],
   "source": [
    "from random import randint\n",
    "\n",
    "magicnum = randint(1,100)\n",
    "\n",
    "n = 0\n",
    "guesslist = [-1,-1]\n",
    "\n",
    "while magicnum != guesslist[-1]: \n",
    "    try:\n",
    "        n = int(input('\\n'+ 'Enter a number here '+ '\\n'))\n",
    "        \n",
    "    except ValueError:\n",
    "        print(\"\\033[1;37;40mINPUT MUST BE AN INTEGER\\033[2;0m\")\n",
    "        continue\n",
    "        \n",
    "    guesslist.append(n)\n",
    "    \n",
    "    if guesslist[-1] < 1 or guesslist[-1] > 100:\n",
    "        print(\"OUT OF BOUNDS\")\n",
    "        continue\n",
    "\n",
    "    if n == magicnum:\n",
    "        print(f\"You have guessed correctly, the number was {magicnum}\")\n",
    "        print(f\"You took a grand total of {(len(guesslist)-2)} guesses\")\n",
    "        break\n",
    "\n",
    "    else:\n",
    "\n",
    "        if guesslist[-2] >= 0:\n",
    "\n",
    "            a = guesslist[-2]- magicnum\n",
    "            b = guesslist[-1]- magicnum    \n",
    "\n",
    "            if abs(a) < abs(b):\n",
    "                print(\"\\033[1;31mCOLDER\\033[2;0m\")\n",
    "                #print(guesslist)\n",
    "                #print(magicnum)\n",
    "\n",
    "            else:\n",
    "                print(\"\\033[1;32mWARMER\\033[2;0m\")\n",
    "                #print(guesslist)\n",
    "                #print(magicnum)\n",
    "\n",
    "        elif abs(n- magicnum) != -10:\n",
    "            print(\"\\033[1;32mWARM\\033[2;0m\")\n",
    "\n",
    "        elif abs(n- magicnum) != 10:\n",
    "             print(\"\\033[1;31mCOLD\\033[2;0m\")         "
   ]
  },
  {
   "cell_type": "code",
   "execution_count": 2,
   "id": "f5e3dd15",
   "metadata": {},
   "outputs": [
    {
     "name": "stdout",
     "output_type": "stream",
     "text": [
      "[-1, -1, 56, 20, 78, 95, 75, 65, 60, 70, 68]\n"
     ]
    }
   ],
   "source": [
    "print(guesslist)"
   ]
  },
  {
   "cell_type": "code",
   "execution_count": 2,
   "id": "75aaf36e",
   "metadata": {},
   "outputs": [],
   "source": [
    "# CAN RUN isdigit() function or try, except to screen error"
   ]
  },
  {
   "cell_type": "code",
   "execution_count": 10,
   "id": "89c03402",
   "metadata": {},
   "outputs": [],
   "source": [
    "def myfunc (A_True_Or_False):\n",
    "    if A_True_Or_False == True:\n",
    "        return 'Hello'\n",
    "    elif A_True_Or_False == False:\n",
    "        return 'Goodbye'"
   ]
  },
  {
   "cell_type": "code",
   "execution_count": 11,
   "id": "248a72b6",
   "metadata": {},
   "outputs": [
    {
     "data": {
      "text/plain": [
       "'Hello'"
      ]
     },
     "execution_count": 11,
     "metadata": {},
     "output_type": "execute_result"
    }
   ],
   "source": [
    "myfunc(True)"
   ]
  },
  {
   "cell_type": "code",
   "execution_count": null,
   "id": "84a8aa93",
   "metadata": {},
   "outputs": [],
   "source": []
  }
 ],
 "metadata": {
  "kernelspec": {
   "display_name": "Python 3 (ipykernel)",
   "language": "python",
   "name": "python3"
  },
  "language_info": {
   "codemirror_mode": {
    "name": "ipython",
    "version": 3
   },
   "file_extension": ".py",
   "mimetype": "text/x-python",
   "name": "python",
   "nbconvert_exporter": "python",
   "pygments_lexer": "ipython3",
   "version": "3.9.7"
  }
 },
 "nbformat": 4,
 "nbformat_minor": 5
}
