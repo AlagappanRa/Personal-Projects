{
 "cells": [
  {
   "cell_type": "code",
   "execution_count": 4,
   "id": "a3faf240",
   "metadata": {},
   "outputs": [
    {
     "data": {
      "text/plain": [
       "'r'"
      ]
     },
     "execution_count": 4,
     "metadata": {},
     "output_type": "execute_result"
    }
   ],
   "source": [
    "# For slicing single char from a string\n",
    "My_string = \"Hungry\"\n",
    "My_string[4]\n"
   ]
  },
  {
   "cell_type": "code",
   "execution_count": 5,
   "id": "c7cc67c6",
   "metadata": {},
   "outputs": [
    {
     "data": {
      "text/plain": [
       "'y'"
      ]
     },
     "execution_count": 5,
     "metadata": {},
     "output_type": "execute_result"
    }
   ],
   "source": [
    "# Reverse Slicing\n",
    "My_string[-1]"
   ]
  },
  {
   "cell_type": "code",
   "execution_count": 6,
   "id": "a3d3aaa0",
   "metadata": {},
   "outputs": [
    {
     "data": {
      "text/plain": [
       "'gry'"
      ]
     },
     "execution_count": 6,
     "metadata": {},
     "output_type": "execute_result"
    }
   ],
   "source": [
    "# Method string[start, stop, step size]\n",
    "# Start means start from particular index\n",
    "# Stop means up to but not including particular index\n",
    "# Step size refers to start + step size = next index in the list\n",
    "\n",
    "My_string[3:]"
   ]
  },
  {
   "cell_type": "code",
   "execution_count": 8,
   "id": "f92dfb67",
   "metadata": {},
   "outputs": [
    {
     "data": {
      "text/plain": [
       "'Hun'"
      ]
     },
     "execution_count": 8,
     "metadata": {},
     "output_type": "execute_result"
    }
   ],
   "source": [
    "My_string[:3]"
   ]
  },
  {
   "cell_type": "code",
   "execution_count": 9,
   "id": "a29cb70f",
   "metadata": {},
   "outputs": [
    {
     "data": {
      "text/plain": [
       "'Hnr'"
      ]
     },
     "execution_count": 9,
     "metadata": {},
     "output_type": "execute_result"
    }
   ],
   "source": [
    "My_string[::2]\n",
    "# Run from start to stop, skipping 2 index positions at a time "
   ]
  },
  {
   "cell_type": "code",
   "execution_count": 10,
   "id": "3fb05d51",
   "metadata": {},
   "outputs": [
    {
     "data": {
      "text/plain": [
       "'yrgnuH'"
      ]
     },
     "execution_count": 10,
     "metadata": {},
     "output_type": "execute_result"
    }
   ],
   "source": [
    "My_string [::-1]\n",
    "# this is a trick to reverse the string entirely"
   ]
  },
  {
   "cell_type": "code",
   "execution_count": null,
   "id": "83e14afb",
   "metadata": {},
   "outputs": [],
   "source": []
  }
 ],
 "metadata": {
  "kernelspec": {
   "display_name": "Python 3 (ipykernel)",
   "language": "python",
   "name": "python3"
  },
  "language_info": {
   "codemirror_mode": {
    "name": "ipython",
    "version": 3
   },
   "file_extension": ".py",
   "mimetype": "text/x-python",
   "name": "python",
   "nbconvert_exporter": "python",
   "pygments_lexer": "ipython3",
   "version": "3.9.7"
  }
 },
 "nbformat": 4,
 "nbformat_minor": 5
}
