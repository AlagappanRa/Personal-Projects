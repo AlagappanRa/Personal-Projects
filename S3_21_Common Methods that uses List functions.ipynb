{
 "cells": [
  {
   "cell_type": "code",
   "execution_count": 2,
   "id": "99bc3ac0",
   "metadata": {},
   "outputs": [],
   "source": [
    "mylist = [\"String\",2,3]"
   ]
  },
  {
   "cell_type": "code",
   "execution_count": 3,
   "id": "f4a9f3d4",
   "metadata": {},
   "outputs": [
    {
     "data": {
      "text/plain": [
       "'String'"
      ]
     },
     "execution_count": 3,
     "metadata": {},
     "output_type": "execute_result"
    }
   ],
   "source": [
    "mylist[0]"
   ]
  },
  {
   "cell_type": "code",
   "execution_count": 23,
   "id": "b3df554f",
   "metadata": {},
   "outputs": [
    {
     "data": {
      "text/plain": [
       "[4, 3, 2, 0]"
      ]
     },
     "execution_count": 23,
     "metadata": {},
     "output_type": "execute_result"
    }
   ],
   "source": [
    "my_string = 'string'\n",
    "my_string[::-1]\n",
    "\n",
    "mylist = [0,2,3,4]\n",
    "mylist[::-1]"
   ]
  },
  {
   "cell_type": "code",
   "execution_count": 7,
   "id": "9daf01fd",
   "metadata": {},
   "outputs": [
    {
     "name": "stdout",
     "output_type": "stream",
     "text": [
      "['String', 2, 3, 4, 5, 6]\n"
     ]
    }
   ],
   "source": [
    "anotherlist = [4,5,6]\n",
    "new_list = mylist + anotherlist\n",
    "print (new_list)"
   ]
  },
  {
   "cell_type": "code",
   "execution_count": 8,
   "id": "23a68193",
   "metadata": {},
   "outputs": [
    {
     "data": {
      "text/plain": [
       "['STRING', 2, 3, 4, 5, 6]"
      ]
     },
     "execution_count": 8,
     "metadata": {},
     "output_type": "execute_result"
    }
   ],
   "source": [
    "# Replacing placeholder in a list with a new uppercase string\n",
    "a = new_list[0]\n",
    "new_list[0] = a.upper() \n",
    "new_list"
   ]
  },
  {
   "cell_type": "code",
   "execution_count": 16,
   "id": "30684818",
   "metadata": {},
   "outputs": [
    {
     "data": {
      "text/plain": [
       "['STRING', 2, 3, 4, 5, 6]"
      ]
     },
     "execution_count": 16,
     "metadata": {},
     "output_type": "execute_result"
    }
   ],
   "source": [
    "# Append method takes on single argument, that is the last string/number added, does not return anything\n",
    "# Pop method takes on a single argument, that is the placeholder that is about to be removed, it returns the popped variable\n",
    "new_list.append(7)\n",
    "new_list.pop(-1)\n",
    "new_list.pop(-1)\n",
    "new_list"
   ]
  },
  {
   "cell_type": "code",
   "execution_count": 17,
   "id": "3ef3bc7a",
   "metadata": {},
   "outputs": [
    {
     "data": {
      "text/plain": [
       "list"
      ]
     },
     "execution_count": 17,
     "metadata": {},
     "output_type": "execute_result"
    }
   ],
   "source": [
    "type (new_list)"
   ]
  },
  {
   "cell_type": "code",
   "execution_count": 24,
   "id": "69a4af7c",
   "metadata": {},
   "outputs": [],
   "source": [
    "# Sort method, returns nothing therefore you must call AlphList to get the list\n",
    "# Reverse method returns nothing and reverses only the placeholders, does not have number sense like sort \n",
    "\n",
    "AlphList = [\"b\",\"d\",\"c\",\"a\",\"z\"]\n",
    "NumList = [0,98,23,56,4,8,6]"
   ]
  },
  {
   "cell_type": "code",
   "execution_count": 21,
   "id": "2c8f0832",
   "metadata": {},
   "outputs": [
    {
     "data": {
      "text/plain": [
       "['a', 'b', 'c', 'd', 'e']"
      ]
     },
     "execution_count": 21,
     "metadata": {},
     "output_type": "execute_result"
    }
   ],
   "source": [
    "AlphList.sort()\n",
    "AlphList"
   ]
  },
  {
   "cell_type": "code",
   "execution_count": 25,
   "id": "7699cb45",
   "metadata": {},
   "outputs": [
    {
     "data": {
      "text/plain": [
       "[6, 8, 4, 56, 23, 98, 0]"
      ]
     },
     "execution_count": 25,
     "metadata": {},
     "output_type": "execute_result"
    }
   ],
   "source": [
    "NumList.reverse()\n",
    "NumList"
   ]
  },
  {
   "cell_type": "code",
   "execution_count": null,
   "id": "5003c74d",
   "metadata": {},
   "outputs": [],
   "source": []
  }
 ],
 "metadata": {
  "kernelspec": {
   "display_name": "Python 3 (ipykernel)",
   "language": "python",
   "name": "python3"
  },
  "language_info": {
   "codemirror_mode": {
    "name": "ipython",
    "version": 3
   },
   "file_extension": ".py",
   "mimetype": "text/x-python",
   "name": "python",
   "nbconvert_exporter": "python",
   "pygments_lexer": "ipython3",
   "version": "3.9.7"
  }
 },
 "nbformat": 4,
 "nbformat_minor": 5
}
