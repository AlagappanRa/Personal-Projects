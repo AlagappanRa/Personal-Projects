{
 "cells": [
  {
   "cell_type": "code",
   "execution_count": 17,
   "id": "7b9e0a3e",
   "metadata": {},
   "outputs": [
    {
     "name": "stdout",
     "output_type": "stream",
     "text": [
      "0\n",
      "1\n",
      "2\n",
      "3\n",
      "4\n",
      "5\n",
      "6\n",
      "7\n",
      "8\n",
      "9\n"
     ]
    },
    {
     "data": {
      "text/plain": [
       "range(0, 3)"
      ]
     },
     "execution_count": 17,
     "metadata": {},
     "output_type": "execute_result"
    }
   ],
   "source": [
    "for _ in range (10):\n",
    "    print(_)\n",
    "\n",
    "range(3)\n",
    "#range: (start, stop, step size) or range(stop, start default 0). STOP = UNTIL BUT NOT INCLUDING"
   ]
  },
  {
   "cell_type": "code",
   "execution_count": 6,
   "id": "a4f2f869",
   "metadata": {},
   "outputs": [
    {
     "name": "stdout",
     "output_type": "stream",
     "text": [
      "2\n",
      "4\n",
      "6\n",
      "8\n"
     ]
    }
   ],
   "source": [
    "for _ in range(2,10,2):\n",
    "    print(_)"
   ]
  },
  {
   "cell_type": "code",
   "execution_count": 8,
   "id": "a7af8d5b",
   "metadata": {},
   "outputs": [
    {
     "name": "stdout",
     "output_type": "stream",
     "text": [
      "At index count 0, the letter is a\n",
      "At index count 1, the letter is c\n",
      "At index count 2, the letter is f\n",
      "At index count 3, the letter is b\n",
      "At index count 4, the letter is e\n"
     ]
    }
   ],
   "source": [
    "index_count = 0\n",
    "for _ in 'acfbe':\n",
    "    print(f'At index count {index_count}, the letter is {_}')\n",
    "    index_count+=1"
   ]
  },
  {
   "cell_type": "markdown",
   "id": "68295071",
   "metadata": {},
   "source": [
    "The above is the word form illustration of the enumerate function. "
   ]
  },
  {
   "cell_type": "code",
   "execution_count": 9,
   "id": "584a3377",
   "metadata": {},
   "outputs": [
    {
     "name": "stdout",
     "output_type": "stream",
     "text": [
      "a\n",
      "c\n",
      "f\n",
      "b\n",
      "e\n"
     ]
    }
   ],
   "source": [
    "index_count = 0\n",
    "word = 'acfbe'\n",
    "for _ in word:\n",
    "    print(word[index_count])\n",
    "    index_count+=1"
   ]
  },
  {
   "cell_type": "code",
   "execution_count": 10,
   "id": "0fb106b8",
   "metadata": {},
   "outputs": [
    {
     "name": "stdout",
     "output_type": "stream",
     "text": [
      "a\n",
      "c\n",
      "f\n",
      "b\n",
      "e\n"
     ]
    }
   ],
   "source": [
    "word = 'acfbe'\n",
    "for _ in word :\n",
    "    print(_)\n",
    "   "
   ]
  },
  {
   "cell_type": "code",
   "execution_count": 12,
   "id": "35b16601",
   "metadata": {},
   "outputs": [
    {
     "name": "stdout",
     "output_type": "stream",
     "text": [
      "(0, 'a')\n",
      "(1, 'c')\n",
      "(2, 'f')\n",
      "(3, 'b')\n",
      "(4, 'e')\n"
     ]
    }
   ],
   "source": [
    "word = 'acfbe'\n",
    "for _ in enumerate (word):\n",
    "    print(_)\n",
    "# enumerate is used for tuple return values, such that it is easier for further code"
   ]
  },
  {
   "cell_type": "code",
   "execution_count": 15,
   "id": "35c327d6",
   "metadata": {},
   "outputs": [
    {
     "name": "stdout",
     "output_type": "stream",
     "text": [
      "0\n",
      "a\n",
      "\n",
      "\n",
      "1\n",
      "c\n",
      "\n",
      "\n",
      "2\n",
      "f\n",
      "\n",
      "\n",
      "3\n",
      "b\n",
      "\n",
      "\n",
      "4\n",
      "e\n",
      "\n",
      "\n"
     ]
    }
   ],
   "source": [
    "for (index_count, _) in enumerate (word):\n",
    "    print(index_count)\n",
    "    print(_)\n",
    "    print('\\n')"
   ]
  },
  {
   "cell_type": "code",
   "execution_count": 21,
   "id": "58b19beb",
   "metadata": {},
   "outputs": [
    {
     "data": {
      "text/plain": [
       "[('a', 0, 0), ('b', 1, 1), ('c', 2, 2)]"
      ]
     },
     "execution_count": 21,
     "metadata": {},
     "output_type": "execute_result"
    }
   ],
   "source": [
    "list(zip('abcdefg', range(3), range(4)))\n",
    "# since a built-in index_count is called, zip is able to return an output, however while zipping your own lists, you\n",
    "# will need to run a for loop"
   ]
  },
  {
   "cell_type": "code",
   "execution_count": 62,
   "id": "7d857b6e",
   "metadata": {},
   "outputs": [
    {
     "data": {
      "text/plain": [
       "<zip at 0x2647b52bf00>"
      ]
     },
     "execution_count": 62,
     "metadata": {},
     "output_type": "execute_result"
    }
   ],
   "source": [
    "mylist = [1,2,3]\n",
    "mylist2 = [4,5,6]\n",
    "(zip(mylist, mylist2))\n",
    "#list(zip(mylist, mylist2)) you need to define the elements within a list in order for the zip function to operate"
   ]
  },
  {
   "cell_type": "code",
   "execution_count": 58,
   "id": "5df81831",
   "metadata": {},
   "outputs": [
    {
     "name": "stdout",
     "output_type": "stream",
     "text": [
      "(1, 4)\n",
      "(2, 5)\n",
      "(3, 6)\n"
     ]
    }
   ],
   "source": [
    "mylist = [1,2,3]\n",
    "mylist2 = [4,5,6]\n",
    "for (a,b,c) in zip(mylist,mylist2, range(3)):\n",
    "    print(tuple((a,b)))"
   ]
  },
  {
   "cell_type": "code",
   "execution_count": 54,
   "id": "5cc28c42",
   "metadata": {},
   "outputs": [
    {
     "name": "stdout",
     "output_type": "stream",
     "text": [
      "\n"
     ]
    },
    {
     "data": {
      "text/plain": [
       "NoneType"
      ]
     },
     "execution_count": 54,
     "metadata": {},
     "output_type": "execute_result"
    }
   ],
   "source": [
    "type (print())\n",
    "# Nonetype = very cool\n",
    "# None type objects are not iterable"
   ]
  },
  {
   "cell_type": "code",
   "execution_count": 56,
   "id": "ec22cd7d",
   "metadata": {},
   "outputs": [
    {
     "name": "stdout",
     "output_type": "stream",
     "text": [
      "(1, 4, 0)\n",
      "(2, 5, 1)\n",
      "(3, 6, 2)\n"
     ]
    }
   ],
   "source": [
    "for item in zip(mylist,mylist2, range(3)):\n",
    "    print(item)"
   ]
  },
  {
   "cell_type": "code",
   "execution_count": 69,
   "id": "f5dcf8c5",
   "metadata": {},
   "outputs": [
    {
     "data": {
      "text/plain": [
       "False"
      ]
     },
     "execution_count": 69,
     "metadata": {},
     "output_type": "execute_result"
    }
   ],
   "source": [
    "x = 0\n",
    "x in [1,2,3]\n",
    "# boolean test"
   ]
  },
  {
   "cell_type": "code",
   "execution_count": 73,
   "id": "1608260d",
   "metadata": {},
   "outputs": [
    {
     "data": {
      "text/plain": [
       "1"
      ]
     },
     "execution_count": 73,
     "metadata": {},
     "output_type": "execute_result"
    }
   ],
   "source": [
    "y = [1,2,3,4]\n",
    "min(x)"
   ]
  },
  {
   "cell_type": "code",
   "execution_count": 71,
   "id": "00bec6da",
   "metadata": {},
   "outputs": [
    {
     "data": {
      "text/plain": [
       "4"
      ]
     },
     "execution_count": 71,
     "metadata": {},
     "output_type": "execute_result"
    }
   ],
   "source": [
    "max(x)"
   ]
  },
  {
   "cell_type": "code",
   "execution_count": 72,
   "id": "a88df078",
   "metadata": {},
   "outputs": [],
   "source": [
    "# library importing\n",
    "from random import shuffle"
   ]
  },
  {
   "cell_type": "code",
   "execution_count": 77,
   "id": "02564197",
   "metadata": {},
   "outputs": [
    {
     "data": {
      "text/plain": [
       "[2, 4, 3, 1]"
      ]
     },
     "execution_count": 77,
     "metadata": {},
     "output_type": "execute_result"
    }
   ],
   "source": [
    "shuffle(y)\n",
    "y\n",
    "# returns nothing"
   ]
  },
  {
   "cell_type": "code",
   "execution_count": 81,
   "id": "3849c662",
   "metadata": {},
   "outputs": [
    {
     "data": {
      "text/plain": [
       "99"
      ]
     },
     "execution_count": 81,
     "metadata": {},
     "output_type": "execute_result"
    }
   ],
   "source": [
    "from random import randint\n",
    "mynum = randint(0,100)\n",
    "mynum"
   ]
  },
  {
   "cell_type": "code",
   "execution_count": 91,
   "id": "3db873b8",
   "metadata": {},
   "outputs": [
    {
     "name": "stdout",
     "output_type": "stream",
     "text": [
      "Enter a number here: 23\n"
     ]
    }
   ],
   "source": [
    "result = float(input('Enter a number here: '))"
   ]
  },
  {
   "cell_type": "code",
   "execution_count": 92,
   "id": "10008bf6",
   "metadata": {},
   "outputs": [
    {
     "data": {
      "text/plain": [
       "float"
      ]
     },
     "execution_count": 92,
     "metadata": {},
     "output_type": "execute_result"
    }
   ],
   "source": [
    "type(result)"
   ]
  },
  {
   "cell_type": "code",
   "execution_count": 93,
   "id": "62159aef",
   "metadata": {},
   "outputs": [
    {
     "data": {
      "text/plain": [
       "23.0"
      ]
     },
     "execution_count": 93,
     "metadata": {},
     "output_type": "execute_result"
    }
   ],
   "source": [
    "result"
   ]
  },
  {
   "cell_type": "code",
   "execution_count": 94,
   "id": "2fc74cb2",
   "metadata": {},
   "outputs": [
    {
     "data": {
      "text/plain": [
       "23"
      ]
     },
     "execution_count": 94,
     "metadata": {},
     "output_type": "execute_result"
    }
   ],
   "source": [
    "int(result)"
   ]
  },
  {
   "cell_type": "code",
   "execution_count": null,
   "id": "3ac601ac",
   "metadata": {},
   "outputs": [],
   "source": []
  },
  {
   "cell_type": "code",
   "execution_count": null,
   "id": "017e3ebc",
   "metadata": {},
   "outputs": [],
   "source": []
  }
 ],
 "metadata": {
  "kernelspec": {
   "display_name": "Python 3 (ipykernel)",
   "language": "python",
   "name": "python3"
  },
  "language_info": {
   "codemirror_mode": {
    "name": "ipython",
    "version": 3
   },
   "file_extension": ".py",
   "mimetype": "text/x-python",
   "name": "python",
   "nbconvert_exporter": "python",
   "pygments_lexer": "ipython3",
   "version": "3.9.7"
  }
 },
 "nbformat": 4,
 "nbformat_minor": 5
}
