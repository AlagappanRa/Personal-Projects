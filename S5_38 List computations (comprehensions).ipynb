{
 "cells": [
  {
   "cell_type": "code",
   "execution_count": 16,
   "id": "ee410def",
   "metadata": {},
   "outputs": [
    {
     "data": {
      "text/plain": [
       "['H', 'e', 'l', 'l', 'o']"
      ]
     },
     "execution_count": 16,
     "metadata": {},
     "output_type": "execute_result"
    }
   ],
   "source": [
    "mystring = 'Hello'\n",
    "mylist = []\n",
    "for everychar in mystring:\n",
    "    mylist.append(everychar)\n",
    "mylist"
   ]
  },
  {
   "cell_type": "code",
   "execution_count": 14,
   "id": "7ea756ff",
   "metadata": {},
   "outputs": [],
   "source": [
    "mylist = [everychar for everychar in mystring]"
   ]
  },
  {
   "cell_type": "code",
   "execution_count": 12,
   "id": "83b7823a",
   "metadata": {},
   "outputs": [
    {
     "data": {
      "text/plain": [
       "['H', 'e', 'l', 'l', 'o']"
      ]
     },
     "execution_count": 12,
     "metadata": {},
     "output_type": "execute_result"
    }
   ],
   "source": [
    "mylist"
   ]
  },
  {
   "cell_type": "markdown",
   "id": "91b9f6c2",
   "metadata": {},
   "source": [
    "Python's special list comprehension method <br>\n",
    "<br>\n",
    "mylist = [object or object function <code>for</code> object <code>in</code> list/string/dict]\n",
    "<br>\n",
    "<br> this primarily removes the need for append function"
   ]
  },
  {
   "cell_type": "code",
   "execution_count": 20,
   "id": "36ce5818",
   "metadata": {},
   "outputs": [
    {
     "data": {
      "text/plain": [
       "[0, 1, 2, 3, 4, 5, 6, 7, 8, 9, 10]"
      ]
     },
     "execution_count": 20,
     "metadata": {},
     "output_type": "execute_result"
    }
   ],
   "source": [
    "mylist = [num for num in range(0,11)]\n",
    "mylist"
   ]
  },
  {
   "cell_type": "code",
   "execution_count": 23,
   "id": "f09f6c7d",
   "metadata": {},
   "outputs": [
    {
     "data": {
      "text/plain": [
       "[0, 4, 16, 36, 64, 100]"
      ]
     },
     "execution_count": 23,
     "metadata": {},
     "output_type": "execute_result"
    }
   ],
   "source": [
    "mylist = [num**2 for num in range(0,11) if num%2==0]\n",
    "mylist"
   ]
  },
  {
   "cell_type": "code",
   "execution_count": 24,
   "id": "48176499",
   "metadata": {},
   "outputs": [
    {
     "data": {
      "text/plain": [
       "[95.0, 113.0, 131.0, 77.0, 60.8, 17.6]"
      ]
     },
     "execution_count": 24,
     "metadata": {},
     "output_type": "execute_result"
    }
   ],
   "source": [
    "# celcius to farenheit converter\n",
    "celcius = [35,45,55,25,16,-8]\n",
    "farenheit = [(9/5)*temp+32 for temp in celcius]\n",
    "farenheit"
   ]
  },
  {
   "cell_type": "code",
   "execution_count": 27,
   "id": "940d9af6",
   "metadata": {},
   "outputs": [
    {
     "data": {
      "text/plain": [
       "[95.0, 113.0, 131.0, 77.0, 60.8, 17.6]"
      ]
     },
     "execution_count": 27,
     "metadata": {},
     "output_type": "execute_result"
    }
   ],
   "source": [
    "farenheit1 =[]\n",
    "for temp in celcius:\n",
    "    farenheit1.append((9/5)*temp+32)\n",
    "farenheit1"
   ]
  },
  {
   "cell_type": "code",
   "execution_count": 28,
   "id": "6587a2e5",
   "metadata": {},
   "outputs": [
    {
     "data": {
      "text/plain": [
       "True"
      ]
     },
     "execution_count": 28,
     "metadata": {},
     "output_type": "execute_result"
    }
   ],
   "source": [
    "farenheit==farenheit1"
   ]
  },
  {
   "cell_type": "markdown",
   "id": "fa796a70",
   "metadata": {},
   "source": [
    "if else statements, confusing. Low readability and reproducability"
   ]
  },
  {
   "cell_type": "code",
   "execution_count": 30,
   "id": "3699b2d3",
   "metadata": {},
   "outputs": [
    {
     "data": {
      "text/plain": [
       "[0, 'ODD', 2, 'ODD', 4, 'ODD', 6, 'ODD', 8, 'ODD', 10]"
      ]
     },
     "execution_count": 30,
     "metadata": {},
     "output_type": "execute_result"
    }
   ],
   "source": [
    "results = [x if x%2==0 else 'ODD' for x in range (0,11)]\n",
    "results"
   ]
  },
  {
   "cell_type": "code",
   "execution_count": 39,
   "id": "1000f11c",
   "metadata": {},
   "outputs": [
    {
     "data": {
      "text/plain": [
       "[400, 500, -600, 800, 1000, -1200, 1200, 1500, -1800]"
      ]
     },
     "execution_count": 39,
     "metadata": {},
     "output_type": "execute_result"
    }
   ],
   "source": [
    "#nested loop\n",
    "mylist = []\n",
    "for x in [1,2,3]:\n",
    "    for y in [400,500,-600]:\n",
    "        mylist.append(x*y)\n",
    "        \n",
    "mylist\n",
    "# this runs like a cross-multiplication "
   ]
  },
  {
   "cell_type": "code",
   "execution_count": 42,
   "id": "f6da1ecb",
   "metadata": {},
   "outputs": [
    {
     "data": {
      "text/plain": [
       "[400, 500, 800, 1000, 1200, 1500]"
      ]
     },
     "execution_count": 42,
     "metadata": {},
     "output_type": "execute_result"
    }
   ],
   "source": [
    "mylist1= [x*y for x in [1,2,3] for y in [400,500,-600] if x>0 and y>0]\n",
    "mylist1\n"
   ]
  },
  {
   "cell_type": "code",
   "execution_count": null,
   "id": "95100634",
   "metadata": {},
   "outputs": [],
   "source": []
  }
 ],
 "metadata": {
  "kernelspec": {
   "display_name": "Python 3 (ipykernel)",
   "language": "python",
   "name": "python3"
  },
  "language_info": {
   "codemirror_mode": {
    "name": "ipython",
    "version": 3
   },
   "file_extension": ".py",
   "mimetype": "text/x-python",
   "name": "python",
   "nbconvert_exporter": "python",
   "pygments_lexer": "ipython3",
   "version": "3.9.7"
  }
 },
 "nbformat": 4,
 "nbformat_minor": 5
}
