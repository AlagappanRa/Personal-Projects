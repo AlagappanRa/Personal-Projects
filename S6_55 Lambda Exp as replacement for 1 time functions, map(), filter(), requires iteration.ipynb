{
 "cells": [
  {
   "cell_type": "code",
   "execution_count": 1,
   "id": "c7ef295e",
   "metadata": {},
   "outputs": [],
   "source": [
    "def square (num):\n",
    "    return num**2"
   ]
  },
  {
   "cell_type": "code",
   "execution_count": 2,
   "id": "0ac6b422",
   "metadata": {},
   "outputs": [],
   "source": [
    "nums = [1,2,3,4,5]"
   ]
  },
  {
   "cell_type": "code",
   "execution_count": 3,
   "id": "eee940a0",
   "metadata": {},
   "outputs": [],
   "source": [
    "# Apply the function to each number in the list\n",
    "# Can use for loops but you can use lamda instead"
   ]
  },
  {
   "cell_type": "code",
   "execution_count": 4,
   "id": "82e3b445",
   "metadata": {},
   "outputs": [
    {
     "data": {
      "text/plain": [
       "<map at 0x1dc3e2b7f70>"
      ]
     },
     "execution_count": 4,
     "metadata": {},
     "output_type": "execute_result"
    }
   ],
   "source": [
    "map(square,nums)"
   ]
  },
  {
   "cell_type": "code",
   "execution_count": 5,
   "id": "2fcb7cf9",
   "metadata": {},
   "outputs": [
    {
     "name": "stdout",
     "output_type": "stream",
     "text": [
      "1\n",
      "4\n",
      "9\n",
      "16\n",
      "25\n"
     ]
    }
   ],
   "source": [
    "for _ in nums:\n",
    "    print(square(_))"
   ]
  },
  {
   "cell_type": "code",
   "execution_count": 6,
   "id": "5a54c8a3",
   "metadata": {},
   "outputs": [
    {
     "name": "stdout",
     "output_type": "stream",
     "text": [
      "1\n",
      "4\n",
      "9\n",
      "16\n",
      "25\n"
     ]
    }
   ],
   "source": [
    "for _ in map(square,nums):\n",
    "    print(_)"
   ]
  },
  {
   "cell_type": "code",
   "execution_count": 7,
   "id": "3ce1e932",
   "metadata": {},
   "outputs": [
    {
     "data": {
      "text/plain": [
       "[1, 4, 9, 16, 25]"
      ]
     },
     "execution_count": 7,
     "metadata": {},
     "output_type": "execute_result"
    }
   ],
   "source": [
    "list(map(square,nums))"
   ]
  },
  {
   "cell_type": "code",
   "execution_count": 8,
   "id": "4935c055",
   "metadata": {},
   "outputs": [],
   "source": [
    "# if the map object is run wrongly once, the error will return object not callable error. \n",
    "# Which means that the map object has been called before."
   ]
  },
  {
   "cell_type": "code",
   "execution_count": 9,
   "id": "d7ce4b04",
   "metadata": {},
   "outputs": [],
   "source": [
    "def checkeven(num):\n",
    "    if num%2 == 0:\n",
    "        return True\n",
    "    else:\n",
    "        return False "
   ]
  },
  {
   "cell_type": "code",
   "execution_count": 10,
   "id": "4f174c00",
   "metadata": {},
   "outputs": [
    {
     "data": {
      "text/plain": [
       "[2, 4]"
      ]
     },
     "execution_count": 10,
     "metadata": {},
     "output_type": "execute_result"
    }
   ],
   "source": [
    "list(filter(checkeven, nums))"
   ]
  },
  {
   "cell_type": "code",
   "execution_count": 11,
   "id": "8ee6adc7",
   "metadata": {},
   "outputs": [],
   "source": [
    "# how to covert to lambda expression"
   ]
  },
  {
   "cell_type": "markdown",
   "id": "edd65848",
   "metadata": {},
   "source": [
    "Lambda is often used:\n",
    "lambda *enclosed function*"
   ]
  },
  {
   "cell_type": "code",
   "execution_count": 12,
   "id": "2a144326",
   "metadata": {},
   "outputs": [
    {
     "data": {
      "text/plain": [
       "[2, 4]"
      ]
     },
     "execution_count": 12,
     "metadata": {},
     "output_type": "execute_result"
    }
   ],
   "source": [
    "list(filter(lambda num: num%2 == 0, nums))"
   ]
  },
  {
   "cell_type": "code",
   "execution_count": null,
   "id": "e3f9f738",
   "metadata": {},
   "outputs": [],
   "source": []
  },
  {
   "cell_type": "code",
   "execution_count": null,
   "id": "7bf18c62",
   "metadata": {},
   "outputs": [],
   "source": []
  },
  {
   "cell_type": "code",
   "execution_count": null,
   "id": "f7ca1f4f",
   "metadata": {},
   "outputs": [],
   "source": []
  }
 ],
 "metadata": {
  "kernelspec": {
   "display_name": "Python 3 (ipykernel)",
   "language": "python",
   "name": "python3"
  },
  "language_info": {
   "codemirror_mode": {
    "name": "ipython",
    "version": 3
   },
   "file_extension": ".py",
   "mimetype": "text/x-python",
   "name": "python",
   "nbconvert_exporter": "python",
   "pygments_lexer": "ipython3",
   "version": "3.9.7"
  }
 },
 "nbformat": 4,
 "nbformat_minor": 5
}
