{
 "cells": [
  {
   "cell_type": "code",
   "execution_count": 4,
   "id": "09efe5cf",
   "metadata": {},
   "outputs": [],
   "source": [
    "def number_sum (a,b):\n",
    "    return a+b"
   ]
  },
  {
   "cell_type": "code",
   "execution_count": 6,
   "id": "eb1dfa82",
   "metadata": {},
   "outputs": [
    {
     "data": {
      "text/plain": [
       "38"
      ]
     },
     "execution_count": 6,
     "metadata": {},
     "output_type": "execute_result"
    }
   ],
   "source": [
    "number_sum(34,4)\n",
    "#inefficient method because you do not know how many arguments will be parsed"
   ]
  },
  {
   "cell_type": "code",
   "execution_count": 16,
   "id": "fd638574",
   "metadata": {},
   "outputs": [],
   "source": [
    "def better_num_sum (*args):\n",
    "    print(args)\n",
    "    # this will convert the numbers into a tuple\n",
    "    return sum(args)\n",
    "# the word (args) is an arbritrary choice, the (Args) can be anything, ex.*spam or *fish"
   ]
  },
  {
   "cell_type": "code",
   "execution_count": 17,
   "id": "9e20d0e3",
   "metadata": {},
   "outputs": [
    {
     "name": "stdout",
     "output_type": "stream",
     "text": [
      "(34, 3, 3, 4, 4)\n"
     ]
    },
    {
     "data": {
      "text/plain": [
       "48"
      ]
     },
     "execution_count": 17,
     "metadata": {},
     "output_type": "execute_result"
    }
   ],
   "source": [
    "better_num_sum(34,3,3,4,4)"
   ]
  },
  {
   "cell_type": "code",
   "execution_count": 52,
   "id": "d85285cc",
   "metadata": {},
   "outputs": [],
   "source": [
    "# not in or not class\n",
    "# kwargs refers to keyword arguments\n",
    "# returns dictionaries\n",
    "def myfunc (**kwargs):\n",
    "    if 'fruit' in kwargs:\n",
    "        print(f\"My fruit of choice is {kwargs['fruit']}\")\n",
    "        print(kwargs)\n",
    "        # differentiate between \"\" and ''. If you use '' for fruit, rather use \"\" for printing\n",
    "    else:\n",
    "        print('Not my fruit of choice')"
   ]
  },
  {
   "cell_type": "code",
   "execution_count": 55,
   "id": "d30fc018",
   "metadata": {},
   "outputs": [
    {
     "name": "stdout",
     "output_type": "stream",
     "text": [
      "My fruit of choice is 0\n",
      "{'fruit': '0', 'apple': '1'}\n"
     ]
    }
   ],
   "source": [
    "myfunc(fruit = '0', apple = '1')"
   ]
  },
  {
   "cell_type": "code",
   "execution_count": 72,
   "id": "d5a51ae7",
   "metadata": {},
   "outputs": [],
   "source": [
    "def myfunc (*args, **kwargs):\n",
    "    print(args)\n",
    "    print(kwargs)\n",
    "    print(f\"I would like {args[0]} {kwargs['food']}\")"
   ]
  },
  {
   "cell_type": "code",
   "execution_count": 73,
   "id": "94cdc98a",
   "metadata": {},
   "outputs": [
    {
     "name": "stdout",
     "output_type": "stream",
     "text": [
      "(1, 2, 3, 4, 4, 5)\n",
      "{'food': 'meat', 'animal': 'bird', 'difficulty': 'hard'}\n",
      "I would like 1 meat\n"
     ]
    }
   ],
   "source": [
    "myfunc(1,2,3,4,4,5, food = 'meat', animal = 'bird', difficulty = 'hard')"
   ]
  },
  {
   "cell_type": "code",
   "execution_count": 45,
   "id": "62ec0cbd",
   "metadata": {},
   "outputs": [],
   "source": [
    "list1 =[]\n",
    "def myfunc (*args):\n",
    "    for num in args:\n",
    "        if num%2 == 0:\n",
    "            list1.append(num)\n",
    "        else:\n",
    "            pass\n",
    "    return list1"
   ]
  },
  {
   "cell_type": "code",
   "execution_count": 48,
   "id": "9c73c747",
   "metadata": {},
   "outputs": [
    {
     "data": {
      "text/plain": [
       "[2, 4]"
      ]
     },
     "execution_count": 48,
     "metadata": {},
     "output_type": "execute_result"
    }
   ],
   "source": [
    "myfunc(1,2,3,4)"
   ]
  }
 ],
 "metadata": {
  "kernelspec": {
   "display_name": "Python 3 (ipykernel)",
   "language": "python",
   "name": "python3"
  },
  "language_info": {
   "codemirror_mode": {
    "name": "ipython",
    "version": 3
   },
   "file_extension": ".py",
   "mimetype": "text/x-python",
   "name": "python",
   "nbconvert_exporter": "python",
   "pygments_lexer": "ipython3",
   "version": "3.9.7"
  }
 },
 "nbformat": 4,
 "nbformat_minor": 5
}
