{
 "cells": [
  {
   "cell_type": "code",
   "execution_count": 1,
   "id": "f7764b69",
   "metadata": {},
   "outputs": [],
   "source": [
    "# The user's task is to input a float, an integer and a string in correct syntax in a list form\n",
    "\n",
    "# Example: [float, integer, string], in any order. \n",
    "\n",
    "# Your task as the course instructor is to set-up a solution checker such that exactly 1 float, 1 integer and 1 string has \n",
    "# been entered by the user\n",
    "\n",
    "# Print solution is correct or solution is wrong - and the attached python error"
   ]
  },
  {
   "cell_type": "code",
   "execution_count": 2,
   "id": "3eea54bf",
   "metadata": {},
   "outputs": [],
   "source": [
    "def f(c,d):\n",
    "    return c,d"
   ]
  },
  {
   "cell_type": "code",
   "execution_count": 3,
   "id": "b17f57a2",
   "metadata": {},
   "outputs": [
    {
     "data": {
      "text/plain": [
       "(3, 4)"
      ]
     },
     "execution_count": 3,
     "metadata": {},
     "output_type": "execute_result"
    }
   ],
   "source": [
    "#    sumnum = 0\n",
    "#    for everynumber in emptylist:\n",
    "#        sumnum += everynumber\n",
    "#    return sumnum \n",
    "c,d = f(3,4)\n",
    "c,d"
   ]
  },
  {
   "cell_type": "code",
   "execution_count": 4,
   "id": "8e30bb17",
   "metadata": {},
   "outputs": [],
   "source": [
    "list1 = [1,2,3,4,5,6]\n",
    "\n",
    "for ele in list1:\n",
    "    ''.join (str(ele))"
   ]
  },
  {
   "cell_type": "code",
   "execution_count": 5,
   "id": "4d74341a",
   "metadata": {},
   "outputs": [
    {
     "ename": "NameError",
     "evalue": "name 'st2' is not defined",
     "output_type": "error",
     "traceback": [
      "\u001b[1;31m---------------------------------------------------------------------------\u001b[0m",
      "\u001b[1;31mNameError\u001b[0m                                 Traceback (most recent call last)",
      "\u001b[1;32m~\\AppData\\Local\\Temp/ipykernel_32316/3579849875.py\u001b[0m in \u001b[0;36m<module>\u001b[1;34m\u001b[0m\n\u001b[1;32m----> 1\u001b[1;33m \u001b[0mst2\u001b[0m\u001b[1;33m\u001b[0m\u001b[1;33m\u001b[0m\u001b[0m\n\u001b[0m",
      "\u001b[1;31mNameError\u001b[0m: name 'st2' is not defined"
     ]
    }
   ],
   "source": [
    "st2"
   ]
  },
  {
   "cell_type": "code",
   "execution_count": null,
   "id": "0d9e2cb3",
   "metadata": {},
   "outputs": [],
   "source": [
    "not \"True\""
   ]
  },
  {
   "cell_type": "code",
   "execution_count": null,
   "id": "07bb3b4b",
   "metadata": {},
   "outputs": [],
   "source": [
    "not None"
   ]
  },
  {
   "cell_type": "code",
   "execution_count": null,
   "id": "30b8c1d6",
   "metadata": {},
   "outputs": [],
   "source": [
    "not 0"
   ]
  },
  {
   "cell_type": "code",
   "execution_count": null,
   "id": "b75ea381",
   "metadata": {},
   "outputs": [],
   "source": [
    "y = 5\n",
    "j = 0\n",
    "for j in range(1,15):     \n",
    "    y = y + 1"
   ]
  },
  {
   "cell_type": "code",
   "execution_count": null,
   "id": "53f38e5d",
   "metadata": {},
   "outputs": [],
   "source": [
    "y"
   ]
  },
  {
   "cell_type": "code",
   "execution_count": null,
   "id": "cc7d164b",
   "metadata": {},
   "outputs": [],
   "source": [
    "import numpy as np\n",
    "\n",
    "A = np.matrix([[1,-3,1],[1,1,-1],[-6,0,1]])\n",
    "B = np.matrix([[0,-2,-1]])\n",
    "A_inverse = np.linalg.inv(A) \n",
    "X = A_inverse* B \n",
    "print(X)"
   ]
  },
  {
   "cell_type": "code",
   "execution_count": null,
   "id": "002833cf",
   "metadata": {},
   "outputs": [],
   "source": [
    "import numpy as np \n",
    "\n",
    "# Defining matrixes\n",
    "A = np.matrix([[1,1], [2,4]])\n",
    "B = np.matrix([[35], [94]])\n",
    "\n",
    "# Taking inverse of A\n",
    "A_inverse = np.linalg.inv(A)\n",
    "\n",
    "# Solving for X\n",
    "X = A_inverse * B \n",
    "print (X)\n",
    "#http://docs.scipy.org/doc/numpy-1.10.1/reference/routines.linalg.html"
   ]
  },
  {
   "cell_type": "code",
   "execution_count": null,
   "id": "2228267e",
   "metadata": {},
   "outputs": [],
   "source": [
    "1 == True"
   ]
  },
  {
   "cell_type": "code",
   "execution_count": null,
   "id": "e05a5d1d",
   "metadata": {},
   "outputs": [],
   "source": [
    "1 == True"
   ]
  },
  {
   "cell_type": "code",
   "execution_count": null,
   "id": "854f9567",
   "metadata": {},
   "outputs": [],
   "source": [
    "2 == True"
   ]
  },
  {
   "cell_type": "code",
   "execution_count": null,
   "id": "b893726f",
   "metadata": {},
   "outputs": [],
   "source": [
    "0 == False"
   ]
  },
  {
   "cell_type": "code",
   "execution_count": null,
   "id": "5fddbaa8",
   "metadata": {},
   "outputs": [],
   "source": [
    "0 or 1"
   ]
  },
  {
   "cell_type": "code",
   "execution_count": null,
   "id": "24627125",
   "metadata": {},
   "outputs": [],
   "source": [
    "None == False"
   ]
  },
  {
   "cell_type": "code",
   "execution_count": null,
   "id": "22ff9f51",
   "metadata": {},
   "outputs": [],
   "source": [
    "def text2int(textnum, numwords={}):\n",
    "    if not numwords:\n",
    "        units = [\n",
    "        \"zero\", \"one\", \"two\", \"three\", \"four\", \"five\", \"six\", \"seven\", \"eight\",\n",
    "        \"nine\", \"ten\", \"eleven\", \"twelve\", \"thirteen\", \"fourteen\", \"fifteen\",\n",
    "        \"sixteen\", \"seventeen\", \"eighteen\", \"nineteen\",\n",
    "        ]\n",
    "\n",
    "        tens = [\"\", \"\", \"twenty\", \"thirty\", \"forty\", \"fifty\", \"sixty\", \"seventy\", \"eighty\", \"ninety\"]\n",
    "\n",
    "        scales = [\"hundred\", \"thousand\", \"million\", \"billion\", \"trillion\"]\n",
    "\n",
    "        numwords[\"and\"] = (1, 0)\n",
    "        \n",
    "        for idx, word in enumerate(units):    numwords[word] = (1, idx)\n",
    "        for idx, word in enumerate(tens):     numwords[word] = (1, idx * 10)\n",
    "        for idx, word in enumerate(scales):   numwords[word] = (10 ** (idx * 3 or 2), 0)\n",
    "        print(numwords)\n",
    "\n",
    "    current = result = 0\n",
    "    for word in textnum.split():\n",
    "        if word not in numwords:\n",
    "            raise Exception(\"Illegal word: \" + word)\n",
    "\n",
    "        scale, increment = numwords[word]\n",
    "        current = current * scale + increment\n",
    "        if scale > 100:\n",
    "            result += current\n",
    "            current = 0\n",
    "\n",
    "    return result + current\n",
    "\n",
    "print(text2int(\"seven billion one hundred million thirty three thousand three hundred and thirty three\"))\n",
    "#7100031337"
   ]
  },
  {
   "cell_type": "code",
   "execution_count": null,
   "id": "fa991755",
   "metadata": {},
   "outputs": [],
   "source": [
    "0*3 or 2"
   ]
  },
  {
   "cell_type": "code",
   "execution_count": null,
   "id": "8638384e",
   "metadata": {},
   "outputs": [],
   "source": [
    "2*3"
   ]
  },
  {
   "cell_type": "code",
   "execution_count": null,
   "id": "2b320481",
   "metadata": {},
   "outputs": [],
   "source": [
    "2**3"
   ]
  },
  {
   "cell_type": "code",
   "execution_count": null,
   "id": "9151520b",
   "metadata": {},
   "outputs": [],
   "source": [
    "haPpyDay = 0"
   ]
  },
  {
   "cell_type": "code",
   "execution_count": null,
   "id": "62688048",
   "metadata": {},
   "outputs": [],
   "source": [
    "18happyday"
   ]
  },
  {
   "cell_type": "code",
   "execution_count": null,
   "id": "b925babb",
   "metadata": {},
   "outputs": [],
   "source": [
    "_HAPPY_DAY = 0"
   ]
  },
  {
   "cell_type": "code",
   "execution_count": null,
   "id": "40189f95",
   "metadata": {},
   "outputs": [],
   "source": [
    "happyDay"
   ]
  },
  {
   "cell_type": "code",
   "execution_count": null,
   "id": "e46beaa8",
   "metadata": {},
   "outputs": [],
   "source": [
    "s = 'banananananananab'"
   ]
  },
  {
   "cell_type": "code",
   "execution_count": null,
   "id": "242fc417",
   "metadata": {},
   "outputs": [],
   "source": [
    "s[:6] == 'banana'"
   ]
  },
  {
   "cell_type": "code",
   "execution_count": null,
   "id": "ee0a48ec",
   "metadata": {},
   "outputs": [],
   "source": [
    "s[::3] == 'banana'"
   ]
  },
  {
   "cell_type": "code",
   "execution_count": null,
   "id": "fcae60c7",
   "metadata": {},
   "outputs": [],
   "source": [
    "s[-1:10:-1] == 'banana'"
   ]
  },
  {
   "cell_type": "code",
   "execution_count": null,
   "id": "5f254424",
   "metadata": {},
   "outputs": [],
   "source": [
    "s[:10:-1] == 'ananab'[::-1]"
   ]
  },
  {
   "cell_type": "code",
   "execution_count": null,
   "id": "77c7fc07",
   "metadata": {},
   "outputs": [],
   "source": [
    "s[0:10:-1] == ''"
   ]
  },
  {
   "cell_type": "code",
   "execution_count": null,
   "id": "84457dd8",
   "metadata": {},
   "outputs": [],
   "source": [
    "s[:-6:-1] == 'nanab'[::-1]"
   ]
  },
  {
   "cell_type": "code",
   "execution_count": null,
   "id": "be807fc1",
   "metadata": {},
   "outputs": [],
   "source": [
    "s[-1:-7] == ''"
   ]
  },
  {
   "cell_type": "code",
   "execution_count": null,
   "id": "b30312ba",
   "metadata": {},
   "outputs": [],
   "source": [
    "s[-6][::-1]"
   ]
  },
  {
   "cell_type": "code",
   "execution_count": null,
   "id": "9a1f216c",
   "metadata": {},
   "outputs": [],
   "source": [
    "'' or 0"
   ]
  },
  {
   "cell_type": "code",
   "execution_count": null,
   "id": "632acdd2",
   "metadata": {},
   "outputs": [],
   "source": [
    "1 or True"
   ]
  },
  {
   "cell_type": "code",
   "execution_count": null,
   "id": "be4e22d1",
   "metadata": {},
   "outputs": [],
   "source": [
    "True or False"
   ]
  },
  {
   "cell_type": "code",
   "execution_count": null,
   "id": "6946715d",
   "metadata": {},
   "outputs": [],
   "source": [
    "1 or ''"
   ]
  },
  {
   "cell_type": "code",
   "execution_count": null,
   "id": "4549f697",
   "metadata": {},
   "outputs": [],
   "source": [
    "1 and True"
   ]
  },
  {
   "cell_type": "code",
   "execution_count": null,
   "id": "880c0198",
   "metadata": {},
   "outputs": [],
   "source": [
    "1 and ''"
   ]
  },
  {
   "cell_type": "code",
   "execution_count": null,
   "id": "b454b72c",
   "metadata": {},
   "outputs": [],
   "source": [
    "True and ''"
   ]
  },
  {
   "cell_type": "code",
   "execution_count": null,
   "id": "564f4aeb",
   "metadata": {},
   "outputs": [],
   "source": [
    "0 and False"
   ]
  },
  {
   "cell_type": "code",
   "execution_count": null,
   "id": "b6765733",
   "metadata": {},
   "outputs": [],
   "source": [
    "1 and True"
   ]
  },
  {
   "cell_type": "code",
   "execution_count": null,
   "id": "a7720f92",
   "metadata": {},
   "outputs": [],
   "source": [
    "'two'>'seven billion'"
   ]
  },
  {
   "cell_type": "code",
   "execution_count": null,
   "id": "b16ad03c",
   "metadata": {},
   "outputs": [],
   "source": [
    "'eight'>= 'eighteen'"
   ]
  },
  {
   "cell_type": "code",
   "execution_count": null,
   "id": "f7483234",
   "metadata": {},
   "outputs": [],
   "source": [
    "type(\"force\"*-3)"
   ]
  },
  {
   "cell_type": "code",
   "execution_count": null,
   "id": "b83a150a",
   "metadata": {},
   "outputs": [],
   "source": [
    "\"force\"*3"
   ]
  },
  {
   "cell_type": "code",
   "execution_count": null,
   "id": "9e4fb227",
   "metadata": {},
   "outputs": [],
   "source": [
    "\"force\"*0"
   ]
  },
  {
   "cell_type": "code",
   "execution_count": null,
   "id": "d1959bbe",
   "metadata": {},
   "outputs": [],
   "source": [
    "def square(x):\n",
    "    print(\"Function executed 2\")\n",
    "    return x ** 2\n",
    "\n",
    "#print(square(2))\n",
    "print_square_2 = 4 # An example answer\n",
    "\n",
    "#print(square(4)) \n",
    "print_square_4 = 16\n",
    "\n",
    "\n",
    "#print(square(square(square(2))))\n",
    "print_square_square_square_2 == 16**2\n",
    "\n",
    "\n",
    "def f(x):\n",
    "    return x * x\n",
    "\n",
    "# print(f(4))\n",
    "print_f_4 = 4**4\n",
    "\n",
    "\n",
    "def try_f(f):\n",
    "    print(\"Function executed\")\n",
    "    return f(3)\n",
    "    \n",
    "\n",
    "print(try_f(square))\n",
    "\n",
    "#print(try_f(f))\n",
    "print_try_f_f =  9 # Insert your answer here\n",
    "\n",
    "#print((try_f(f)) == try_f(square))\n",
    "print_try_try = \"error\"  # Insert your answer here\n",
    "\n",
    "# print(f(3) == square(3))\n",
    "print_f_3_equals_square_3 = True # Insert your answer here\n",
    "\n",
    "# print(f == square)\n",
    "print_f_equals_square = \"Error\" # Insert your answer here\n",
    "\n"
   ]
  },
  {
   "cell_type": "code",
   "execution_count": null,
   "id": "68a82a59",
   "metadata": {},
   "outputs": [],
   "source": [
    "def square(x):\n",
    "    return x ** 2\n",
    "\n",
    "# print(square(2))\n",
    "print_square_2 = 4 # An example answer\n",
    "\n",
    "# print(square(4)) \n",
    "print_square_4 = 16\n",
    "\n",
    "\n",
    "# print(square(square(square(2))))\n",
    "print_square_square_square_2 = 16**2\n",
    "\n",
    "\n",
    "def f(x):\n",
    "    return x * x\n",
    "\n",
    "# print(f(4))\n",
    "print_f_4 = 4**4\n",
    "\n",
    "\n",
    "def try_f(f):\n",
    "    return f(3)\n",
    "\n",
    "print(try_f(f)) \n",
    "# print_try_f_f = 9 \"# Insert your answer here\" # Insert your answer here\n",
    "\n",
    "print(try_f(f) == try_f(square))\n",
    "# print_try_try = True \"# Insert your answer here\" # Insert your answer here\n",
    "\n",
    "print(f(3) == square(3))\n",
    "# print_f_3_equals_square_3 = True \"# Insert your answer here\" # Insert your answer here\n",
    "\n",
    "print(try_f(square))\n",
    "print(f == square)\n",
    "print(f)\n",
    "print(square)\n",
    "print(f(x=5) == square(x=5))\n",
    "# print_f_equals_square = \"# Insert your answer here\" # Insert your answer here\n",
    "\n"
   ]
  },
  {
   "cell_type": "code",
   "execution_count": null,
   "id": "2213775e",
   "metadata": {},
   "outputs": [],
   "source": [
    "def fib(n):    # write Fibonacci series up to n    \"\"\"Print a Fibonacci series up to n.\"\"\"\n",
    "    a, b = 0, 1\n",
    "    result = []\n",
    "    while a < n:\n",
    "        result.append(a)\n",
    "        a, b = b, a+b\n",
    "    return result\n",
    "# Now call the function we just defined:\n",
    "fib(2000)"
   ]
  },
  {
   "cell_type": "code",
   "execution_count": null,
   "id": "022236aa",
   "metadata": {},
   "outputs": [],
   "source": [
    "def tryfib(a):\n",
    "    return a(3)"
   ]
  },
  {
   "cell_type": "code",
   "execution_count": null,
   "id": "ded04d32",
   "metadata": {},
   "outputs": [],
   "source": [
    "tryfib(fib)"
   ]
  },
  {
   "cell_type": "code",
   "execution_count": null,
   "id": "a77dca9d",
   "metadata": {},
   "outputs": [],
   "source": [
    "type(a)"
   ]
  },
  {
   "cell_type": "code",
   "execution_count": null,
   "id": "06efc1ed",
   "metadata": {},
   "outputs": [],
   "source": [
    "type(a)"
   ]
  },
  {
   "cell_type": "code",
   "execution_count": null,
   "id": "6a00d92a",
   "metadata": {},
   "outputs": [],
   "source": [
    "def square(x):\n",
    "    return x ** 2\n",
    "\n",
    "# print(square(2))\n",
    "print_square_2 = 4 # An example answer\n",
    "\n",
    "# print(square(4)) \n",
    "print_square_4 = 16\n",
    "\n",
    "\n",
    "# print(square(square(square(2))))\n",
    "print_square_square_square_2 = 16**2\n",
    "\n",
    "\n",
    "def f(x):\n",
    "    return x * x\n",
    "\n",
    "# print(f(4))\n",
    "print_f_4 = 4**4\n",
    "\n",
    "\n",
    "def try_f(f):\n",
    "    return f(3)\n",
    "\n",
    "# print(try_f(f))\n",
    "print_try_f_f =  \"# Insert your answer here\" # Insert your answer here\n",
    "\n",
    "# print(try_f(f) == try_f(square))\n",
    "print_try_try = \"# Insert your answer here\" # Insert your answer here\n",
    "\n",
    "# print(f(3) == square(3))\n",
    "print_f_3_equals_square_3 = \"# Insert your answer here\" # Insert your answer here\n",
    "\n",
    "# print(f == square)\n",
    "print_f_equals_square = \"# Insert your answer here\" # Insert your answer here\n",
    "\n",
    "type(f)"
   ]
  },
  {
   "cell_type": "code",
   "execution_count": null,
   "id": "0dd66131",
   "metadata": {},
   "outputs": [],
   "source": [
    "type(square)"
   ]
  },
  {
   "cell_type": "code",
   "execution_count": null,
   "id": "8ba217d6",
   "metadata": {},
   "outputs": [],
   "source": [
    "try_f(3)"
   ]
  },
  {
   "cell_type": "code",
   "execution_count": null,
   "id": "420c06eb",
   "metadata": {},
   "outputs": [],
   "source": [
    "def new_odd(x):\n",
    "    while x%2 != 0:\n",
    "        return True\n",
    "    else:\n",
    "        return False"
   ]
  },
  {
   "cell_type": "code",
   "execution_count": null,
   "id": "6c30eca2",
   "metadata": {},
   "outputs": [],
   "source": [
    "def new_odd(x):\n",
    "     return x % 2 != 0"
   ]
  },
  {
   "cell_type": "code",
   "execution_count": null,
   "id": "b8920fab",
   "metadata": {},
   "outputs": [],
   "source": [
    "new_odd(32)"
   ]
  },
  {
   "cell_type": "code",
   "execution_count": null,
   "id": "322d17f9",
   "metadata": {},
   "outputs": [],
   "source": [
    "for _ in 1,2,3:\n",
    "    print (_)"
   ]
  },
  {
   "cell_type": "code",
   "execution_count": null,
   "id": "c68d0ad8",
   "metadata": {},
   "outputs": [],
   "source": [
    "def bigger_sum(a, b, c, *args):\n",
    "    for i in args:\n",
    "        print(i)"
   ]
  },
  {
   "cell_type": "code",
   "execution_count": null,
   "id": "5f724b51",
   "metadata": {},
   "outputs": [],
   "source": [
    "bigger_sum(8,9,10,11)"
   ]
  },
  {
   "cell_type": "code",
   "execution_count": null,
   "id": "fb28f3ab",
   "metadata": {},
   "outputs": [],
   "source": []
  },
  {
   "cell_type": "code",
   "execution_count": null,
   "id": "761c4abc",
   "metadata": {},
   "outputs": [],
   "source": [
    "cube_d = lambda x: x ** 3\n",
    "cube_e = lambda x: cube_d"
   ]
  },
  {
   "cell_type": "code",
   "execution_count": null,
   "id": "9e03bef6",
   "metadata": {},
   "outputs": [],
   "source": [
    "cube_d == cube_e"
   ]
  },
  {
   "cell_type": "code",
   "execution_count": 5,
   "id": "ddb2c04b",
   "metadata": {},
   "outputs": [],
   "source": [
    "cube_a = 2 ** 3\n",
    "cube_b = 2 ** 3\n",
    "cube_c = lambda x: x ** 3\n",
    "cube_d = lambda x: x ** 3\n",
    "cube_e = lambda x: cube_d\n",
    "cube_f = lambda cube_d: cube_d\n",
    "def cube_g(cube_a):\n",
    "    def cube_h(cube_a):\n",
    "        return cube_a ** 3\n",
    "    return cube_h"
   ]
  },
  {
   "cell_type": "code",
   "execution_count": 6,
   "id": "9ac0d408",
   "metadata": {},
   "outputs": [
    {
     "data": {
      "text/plain": [
       "3123282848064"
      ]
     },
     "execution_count": 6,
     "metadata": {},
     "output_type": "execute_result"
    }
   ],
   "source": [
    "id(cube_d)"
   ]
  },
  {
   "cell_type": "code",
   "execution_count": 7,
   "id": "047b061b",
   "metadata": {},
   "outputs": [
    {
     "data": {
      "text/plain": [
       "3123282847200"
      ]
     },
     "execution_count": 7,
     "metadata": {},
     "output_type": "execute_result"
    }
   ],
   "source": [
    "id(cube_e)"
   ]
  },
  {
   "cell_type": "code",
   "execution_count": 8,
   "id": "8c7e7ddc",
   "metadata": {},
   "outputs": [
    {
     "data": {
      "text/plain": [
       "True"
      ]
     },
     "execution_count": 8,
     "metadata": {},
     "output_type": "execute_result"
    }
   ],
   "source": [
    "id(lambda x:x**3) == id(lambda x:x**3)"
   ]
  },
  {
   "cell_type": "code",
   "execution_count": 9,
   "id": "6174d6aa",
   "metadata": {},
   "outputs": [
    {
     "data": {
      "text/plain": [
       "False"
      ]
     },
     "execution_count": 9,
     "metadata": {},
     "output_type": "execute_result"
    }
   ],
   "source": [
    "id(cube_c) == id(cube_d)"
   ]
  },
  {
   "cell_type": "code",
   "execution_count": 4,
   "id": "7fa7bf2f",
   "metadata": {},
   "outputs": [
    {
     "data": {
      "text/plain": [
       "False"
      ]
     },
     "execution_count": 4,
     "metadata": {},
     "output_type": "execute_result"
    }
   ],
   "source": [
    "(lambda x:x**3) == (lambda x:x**3)"
   ]
  },
  {
   "cell_type": "code",
   "execution_count": 10,
   "id": "d94ca820",
   "metadata": {},
   "outputs": [
    {
     "data": {
      "text/plain": [
       "3123282848640"
      ]
     },
     "execution_count": 10,
     "metadata": {},
     "output_type": "execute_result"
    }
   ],
   "source": [
    "id(lambda x:x**3)"
   ]
  },
  {
   "cell_type": "code",
   "execution_count": 13,
   "id": "1c8e05bd",
   "metadata": {},
   "outputs": [
    {
     "data": {
      "text/plain": [
       "3123282848640"
      ]
     },
     "execution_count": 13,
     "metadata": {},
     "output_type": "execute_result"
    }
   ],
   "source": [
    "id(lambda x:x**5)"
   ]
  },
  {
   "cell_type": "code",
   "execution_count": 7,
   "id": "b91e72f7",
   "metadata": {},
   "outputs": [
    {
     "data": {
      "text/plain": [
       "2139599431856"
      ]
     },
     "execution_count": 7,
     "metadata": {},
     "output_type": "execute_result"
    }
   ],
   "source": [
    "def g(x):\n",
    "    def h(y):\n",
    "        h = x+y\n",
    "    return h \n",
    "id(g)"
   ]
  },
  {
   "cell_type": "code",
   "execution_count": 2,
   "id": "6de4be56",
   "metadata": {},
   "outputs": [],
   "source": [
    "g(1)(2)"
   ]
  },
  {
   "cell_type": "code",
   "execution_count": 9,
   "id": "495d5193",
   "metadata": {},
   "outputs": [
    {
     "data": {
      "text/plain": [
       "2139599432000"
      ]
     },
     "execution_count": 9,
     "metadata": {},
     "output_type": "execute_result"
    }
   ],
   "source": [
    "def f(x):\n",
    "    def h(y):\n",
    "        h = x+y\n",
    "    return h \n",
    "id(f)"
   ]
  },
  {
   "cell_type": "code",
   "execution_count": 4,
   "id": "2d74a603",
   "metadata": {},
   "outputs": [
    {
     "data": {
      "text/plain": [
       "4"
      ]
     },
     "execution_count": 4,
     "metadata": {},
     "output_type": "execute_result"
    }
   ],
   "source": [
    "g(1)(2)"
   ]
  },
  {
   "cell_type": "code",
   "execution_count": null,
   "id": "d67d3a6b",
   "metadata": {},
   "outputs": [],
   "source": [
    "def foo(x):\n",
    "    def goo():\n",
    "        x = 3\n",
    "        return(x)\n",
    "    return goo()"
   ]
  },
  {
   "cell_type": "code",
   "execution_count": null,
   "id": "e80260df",
   "metadata": {},
   "outputs": [],
   "source": [
    "foo(4)"
   ]
  },
  {
   "cell_type": "code",
   "execution_count": 2,
   "id": "2a22f514",
   "metadata": {},
   "outputs": [
    {
     "name": "stdout",
     "output_type": "stream",
     "text": [
      "4\n",
      "3\n",
      "4\n"
     ]
    }
   ],
   "source": [
    "def foo(x):\n",
    "    def goo():\n",
    "        x = 3 \n",
    "        print(x)\n",
    "        \n",
    "    print(x)\n",
    "    goo()\n",
    "    print(x)\n",
    "    \n",
    "foo(4)"
   ]
  },
  {
   "cell_type": "code",
   "execution_count": 4,
   "id": "c0a9c18a",
   "metadata": {},
   "outputs": [],
   "source": [
    "def ip_format(address):\n",
    "    \n",
    "    result = 0\n",
    "    final_output = ''\n",
    "    \n",
    "    for num in range (0,25,8):\n",
    "        index_count_1 = num\n",
    "        index_count_2 = num + 7\n",
    "        \n",
    "        for index_count,number in enumerate (address[index_count_1:index_count_2]):\n",
    "            if number == '1':\n",
    "                result += 2**(index_count)\n",
    "                \n",
    "        final_output += str(result) + '.'\n",
    "        \n",
    "    return (final_output[:-1])"
   ]
  },
  {
   "cell_type": "code",
   "execution_count": null,
   "id": "9f5988f4",
   "metadata": {},
   "outputs": [],
   "source": []
  },
  {
   "cell_type": "code",
   "execution_count": null,
   "id": "4c9dccd3",
   "metadata": {},
   "outputs": [],
   "source": []
  }
 ],
 "metadata": {
  "kernelspec": {
   "display_name": "Python 3 (ipykernel)",
   "language": "python",
   "name": "python3"
  },
  "language_info": {
   "codemirror_mode": {
    "name": "ipython",
    "version": 3
   },
   "file_extension": ".py",
   "mimetype": "text/x-python",
   "name": "python",
   "nbconvert_exporter": "python",
   "pygments_lexer": "ipython3",
   "version": "3.9.7"
  }
 },
 "nbformat": 4,
 "nbformat_minor": 5
}
