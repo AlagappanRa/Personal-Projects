{
 "cells": [
  {
   "cell_type": "code",
   "execution_count": 1,
   "id": "7d489d3e",
   "metadata": {},
   "outputs": [
    {
     "data": {
      "text/plain": [
       "False"
      ]
     },
     "execution_count": 1,
     "metadata": {},
     "output_type": "execute_result"
    }
   ],
   "source": [
    ".1+.1+.1 == 0.3"
   ]
  },
  {
   "cell_type": "code",
   "execution_count": 6,
   "id": "954b8fe1",
   "metadata": {},
   "outputs": [
    {
     "name": "stdout",
     "output_type": "stream",
     "text": [
      "3.14159265359\n",
      "3.14\n"
     ]
    }
   ],
   "source": [
    "# Floats are stored as approximate binary fractions. Therefore above result is wrong.\n",
    "\n",
    "import math  \n",
    "\n",
    "a = format(math.pi, '.12g')  # give 12 significant digits\n",
    "print(a)\n",
    "\n",
    "b= format(math.pi, '.2f')   # give 2 digits after the point\n",
    "print(b)\n"
   ]
  },
  {
   "cell_type": "code",
   "execution_count": 7,
   "id": "8f02a411",
   "metadata": {},
   "outputs": [
    {
     "data": {
      "text/plain": [
       "False"
      ]
     },
     "execution_count": 7,
     "metadata": {},
     "output_type": "execute_result"
    }
   ],
   "source": [
    "# Using round () to get significant digits.\n",
    "round(.1, 1) + round(.1, 1) + round(.1, 1) == round(.3, 1)\n",
    "# return is false since round (0.1, 1) is still stored as J/2^55"
   ]
  },
  {
   "cell_type": "code",
   "execution_count": 8,
   "id": "4f814eeb",
   "metadata": {},
   "outputs": [
    {
     "data": {
      "text/plain": [
       "True"
      ]
     },
     "execution_count": 8,
     "metadata": {},
     "output_type": "execute_result"
    }
   ],
   "source": [
    "round(.1 + .1 + .1, 10) == round(.3, 10)\n",
    "# However this retuns true as there is no intermediate storage of 0.1 as binary fraction."
   ]
  },
  {
   "cell_type": "code",
   "execution_count": 15,
   "id": "894cae22",
   "metadata": {},
   "outputs": [],
   "source": [
    "# A way to store a number such as 3.145678 in its exact decimal value is through hexadecimal conversion. \n",
    "# The hexadecimal can be reverse run to regenerate the decimal, preventing macro-calculation screwups\n",
    "\n",
    "x = 3.145678\n",
    "y = x. hex()"
   ]
  },
  {
   "cell_type": "code",
   "execution_count": 18,
   "id": "5a231291",
   "metadata": {},
   "outputs": [
    {
     "data": {
      "text/plain": [
       "3.145678"
      ]
     },
     "execution_count": 18,
     "metadata": {},
     "output_type": "execute_result"
    }
   ],
   "source": [
    "float.fromhex(y)"
   ]
  },
  {
   "cell_type": "code",
   "execution_count": 27,
   "id": "1be784eb",
   "metadata": {},
   "outputs": [],
   "source": [
    "#1 / 10 ~ = J / (2**N)\n",
    "\n",
    "# J ~= 2**N / 10\n",
    "# and recalling that J has exactly 53 bits (is >= 2**52 but < 2**53), the best value for N is 56:\n",
    "\n",
    "\n",
    "# 2**52 <=  2**56 // 10  < 2**53\n",
    "#True\n",
    "#That is, 56 is the only value for N that leaves J with exactly 53 bits. The best possible value for J is then that quotient rounded:\n",
    "\n",
    "\n",
    "#q, r = divmod(2**56, 10)\n",
    "#r = 6\n",
    "#Since the remainder is more than half of 10, the best approximation is obtained by rounding up: \n",
    "#q+1\n",
    "\n",
    "#7205759403792794\n",
    "#Therefore the best possible approximation to 1/10 in 754 double precision is:\n",
    "\n",
    "#7205759403792794 / 2 ** 56\n",
    "#Dividing both the numerator and denominator by two reduces the fraction to:\n",
    "#3602879701896397 / 2 ** 55\n",
    "#Note that since we rounded up, this is actually a little bit larger than 1/10; if we had not rounded up, the quotient would have been a little bit smaller than 1/10. But in no case can it be exactly 1/10!\n",
    "\n",
    "#So the computer never “sees” 1/10: what it sees is the exact fraction given above, the best 754 double approximation it can get:\n",
    "\n",
    "#0.1 * 2 ** 55\n",
    "#3602879701896397.0\n"
   ]
  },
  {
   "cell_type": "code",
   "execution_count": 30,
   "id": "1b7b881a",
   "metadata": {},
   "outputs": [
    {
     "name": "stdout",
     "output_type": "stream",
     "text": [
      "\n"
     ]
    }
   ],
   "source": [
    "\"\"\"\n",
    "According to 53 bit rule, \n",
    "1 / 10 ~= J / (2**N)\n",
    "\n",
    "\n",
    "J ~= 2**N / 10\n",
    "and recalling that J has exactly 53 bits (is >= 2**52 but < 2**53), the best value for N is 56:\n",
    "\n",
    "\n",
    "2**52 <=  2**56 // 10  < 2**53\n",
    "Return : True \n",
    "\n",
    "That is, 56 is the only value for N that leaves J with exactly 53 bits. The best possible value for J is then that quotient \n",
    "rounded:\n",
    "\n",
    "q, r = divmod(2**56, 10)\n",
    "r =  \n",
    "Return 6\n",
    "\n",
    "Since the remainder is more than half of 10, the best approximation is obtained by rounding up:\n",
    "\n",
    "q+1\n",
    "7205759403792794\n",
    "Therefore the best possible approximation to 1/10 in 754 double precision is:\n",
    "\n",
    "7205759403792794 / 2 ** 56\n",
    "Dividing both the numerator and denominator by two reduces the fraction to:\n",
    "\n",
    "3602879701896397 / 2 ** 55\n",
    "Note that since we rounded up, this is actually a little bit larger than 1/10; if we had not rounded up, the quotient would \n",
    "have been a little bit smaller than 1/10. But in no case can it be exactly 1/10!\n",
    "\n",
    "So the computer never “sees” 1/10: what it sees is the exact fraction given above.\n",
    "\n",
    "\"\"\"\n",
    "print ()"
   ]
  },
  {
   "cell_type": "code",
   "execution_count": null,
   "id": "8e79dd0d",
   "metadata": {},
   "outputs": [],
   "source": []
  }
 ],
 "metadata": {
  "kernelspec": {
   "display_name": "Python 3 (ipykernel)",
   "language": "python",
   "name": "python3"
  },
  "language_info": {
   "codemirror_mode": {
    "name": "ipython",
    "version": 3
   },
   "file_extension": ".py",
   "mimetype": "text/x-python",
   "name": "python",
   "nbconvert_exporter": "python",
   "pygments_lexer": "ipython3",
   "version": "3.9.7"
  }
 },
 "nbformat": 4,
 "nbformat_minor": 5
}
