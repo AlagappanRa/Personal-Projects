{
 "cells": [
  {
   "cell_type": "code",
   "execution_count": 82,
   "id": "3f0457a2",
   "metadata": {},
   "outputs": [
    {
     "name": "stdout",
     "output_type": "stream",
     "text": [
      "Overwriting myfile.txt\n"
     ]
    }
   ],
   "source": [
    "%%writefile myfile.txt\n",
    "Hello this is a text file\n",
    "This is the second line\n",
    "\n",
    "# %% and write MUST BE WRITTEN TOGETHER, IF NOT ERROR \n",
    "#RUN ONCE, OUT: WRITING FILE\n",
    "#OVERWRITING MY FILE\n",
    "# CONDA PATHWAY HAS TO BE ACTIVATED IN ORDER TO ALLOW CONDA TO PERMIT READ/WRITE/EDIT FUNCTIONS"
   ]
  },
  {
   "cell_type": "code",
   "execution_count": 83,
   "id": "cdf5a96b",
   "metadata": {},
   "outputs": [
    {
     "data": {
      "text/plain": [
       "<_io.TextIOWrapper name='myfile.txt' mode='r' encoding='cp1252'>"
      ]
     },
     "execution_count": 83,
     "metadata": {},
     "output_type": "execute_result"
    }
   ],
   "source": [
    "myfile = open('myfile.txt')\n",
    "myfile\n",
    "# You will need to  "
   ]
  },
  {
   "cell_type": "code",
   "execution_count": 84,
   "id": "fd3b561d",
   "metadata": {},
   "outputs": [
    {
     "data": {
      "text/plain": [
       "'Hello this is a text file\\nThis is the second line\\n\\n# %% and write MUST BE WRITTEN TOGETHER, IF NOT ERROR \\n#RUN ONCE, OUT: WRITING FILE\\n#OVERWRITING MY FILE\\n# CONDA PATHWAY HAS TO BE ACTIVATED IN ORDER TO ALLOW CONDA TO PERMIT READ/WRITE/EDIT FUNCTIONS\\n'"
      ]
     },
     "execution_count": 84,
     "metadata": {},
     "output_type": "execute_result"
    }
   ],
   "source": [
    "# Open and Read methods\n",
    "\n",
    "myfile = open('myfile.txt')\n",
    "\n",
    "# You are not allowed to read a file without opening it \n",
    "\n",
    "myfile.read()\n",
    "# will return a full string"
   ]
  },
  {
   "cell_type": "code",
   "execution_count": 85,
   "id": "2b03f67d",
   "metadata": {},
   "outputs": [
    {
     "ename": "NameError",
     "evalue": "name 'pwd' is not defined",
     "output_type": "error",
     "traceback": [
      "\u001b[1;31m---------------------------------------------------------------------------\u001b[0m",
      "\u001b[1;31mNameError\u001b[0m                                 Traceback (most recent call last)",
      "\u001b[1;32m~\\AppData\\Local\\Temp/ipykernel_16508/3839528942.py\u001b[0m in \u001b[0;36m<module>\u001b[1;34m\u001b[0m\n\u001b[1;32m----> 1\u001b[1;33m \u001b[0mpwd\u001b[0m\u001b[1;33m\u001b[0m\u001b[1;33m\u001b[0m\u001b[0m\n\u001b[0m\u001b[0;32m      2\u001b[0m \u001b[1;31m# Recognise pathway\u001b[0m\u001b[1;33m\u001b[0m\u001b[1;33m\u001b[0m\u001b[0m\n",
      "\u001b[1;31mNameError\u001b[0m: name 'pwd' is not defined"
     ]
    }
   ],
   "source": [
    "pwd\n",
    "# Recognise pathway"
   ]
  },
  {
   "cell_type": "code",
   "execution_count": null,
   "id": "56a536ac",
   "metadata": {},
   "outputs": [],
   "source": [
    "# If you re-run myfile.read, output will be blank\n",
    "myfile.read()"
   ]
  },
  {
   "cell_type": "code",
   "execution_count": null,
   "id": "17d50dcf",
   "metadata": {},
   "outputs": [],
   "source": [
    "# Reason is that the read function works as a cursor, and the cursor is set to the end as it has already finished reading \n",
    "# the file\n",
    "# You will need to reset the cursor "
   ]
  },
  {
   "cell_type": "code",
   "execution_count": null,
   "id": "257929f9",
   "metadata": {},
   "outputs": [],
   "source": [
    "myfile.seek(0)\n",
    "mycontents = myfile.read()\n",
    "mycontents"
   ]
  },
  {
   "cell_type": "code",
   "execution_count": null,
   "id": "a2dccda0",
   "metadata": {},
   "outputs": [],
   "source": [
    "# Functions and Methods\n",
    "myfile.seek(0)\n",
    "# Output will be the index location of the reset cursor\n",
    "myfile.readlines()"
   ]
  },
  {
   "cell_type": "code",
   "execution_count": null,
   "id": "ac73ee7b",
   "metadata": {},
   "outputs": [],
   "source": [
    "myfile.seek(7)\n",
    "myfile.readlines()"
   ]
  },
  {
   "cell_type": "code",
   "execution_count": null,
   "id": "45972bc2",
   "metadata": {},
   "outputs": [],
   "source": [
    "# readlines returns a list where every line is an element\n",
    "# example: line 1  = element 0, line 2 = element 1\n",
    "# Able to do silcing, indexing, looping\n",
    "# () = call, [] = call index \n",
    "myfile.seek(0)\n",
    "filelist = myfile.readlines()\n",
    "filelist[2]"
   ]
  },
  {
   "cell_type": "code",
   "execution_count": null,
   "id": "38c5ac0b",
   "metadata": {},
   "outputs": [],
   "source": [
    "# To avoid file closing error, use \"with\" statement to concurrently run and edit\n",
    "# Note: open() only takes a string\n",
    "# use SHIFT-TAB to view functions\n",
    "with open('myfile.txt') as mynewfile:\n",
    "    contents = mynewfile.read()"
   ]
  },
  {
   "cell_type": "code",
   "execution_count": 89,
   "id": "1e5646b2",
   "metadata": {},
   "outputs": [
    {
     "data": {
      "text/plain": [
       "'Hello this is a text file\\nThis is the second line\\n\\n# %% and write MUST BE WRITTEN TOGETHER, IF NOT ERROR \\n#RUN ONCE, OUT: WRITING FILE\\n#OVERWRITING MY FILE\\n# CONDA PATHWAY HAS TO BE ACTIVATED IN ORDER TO ALLOW CONDA TO PERMIT READ/WRITE/EDIT FUNCTIONS\\n'"
      ]
     },
     "execution_count": 89,
     "metadata": {},
     "output_type": "execute_result"
    }
   ],
   "source": [
    "contents"
   ]
  },
  {
   "cell_type": "code",
   "execution_count": null,
   "id": "2fe7c147",
   "metadata": {},
   "outputs": [],
   "source": [
    "with open('myfile.txt', mode = 'r') as f:\n",
    "    contents = f.read()"
   ]
  },
  {
   "cell_type": "code",
   "execution_count": 88,
   "id": "51f4d021",
   "metadata": {},
   "outputs": [
    {
     "data": {
      "text/plain": [
       "'Hello this is a text file\\nThis is the second line\\n\\n# %% and write MUST BE WRITTEN TOGETHER, IF NOT ERROR \\n#RUN ONCE, OUT: WRITING FILE\\n#OVERWRITING MY FILE\\n# CONDA PATHWAY HAS TO BE ACTIVATED IN ORDER TO ALLOW CONDA TO PERMIT READ/WRITE/EDIT FUNCTIONS\\n'"
      ]
     },
     "execution_count": 88,
     "metadata": {},
     "output_type": "execute_result"
    }
   ],
   "source": [
    "contents"
   ]
  },
  {
   "cell_type": "code",
   "execution_count": 4,
   "id": "62d3655e",
   "metadata": {},
   "outputs": [
    {
     "name": "stdout",
     "output_type": "stream",
     "text": [
      "ONE ON LINE 1\n",
      "TWO ON LINE 2\n",
      "THREE ON LINE 3\n",
      "FOUR ON LINE 4\n"
     ]
    }
   ],
   "source": [
    "with open('myfile.txt', mode = 'w') as f:\n",
    "    f.write('ONE ON LINE 1\\nTWO ON LINE 2\\nTHREE ON LINE 3')   \n",
    "# only the print functions gives an output without the inverted commas, and only the print function recognises the \\n\n",
    "    \n",
    "#with open('myfile.txt', mode = 'r') as f:\n",
    "#   contents = (f.read())\n",
    "# contents\n",
    "\n",
    "with open('myfile.txt', mode = 'a') as f:\n",
    "    f.write('\\nFOUR ON LINE 4')\n",
    "    \n",
    "with open('myfile.txt', mode = 'r') as f:\n",
    "    print(f.read())"
   ]
  },
  {
   "cell_type": "code",
   "execution_count": null,
   "id": "49d35040",
   "metadata": {},
   "outputs": [],
   "source": []
  },
  {
   "cell_type": "code",
   "execution_count": null,
   "id": "932e8155",
   "metadata": {},
   "outputs": [],
   "source": []
  }
 ],
 "metadata": {
  "kernelspec": {
   "display_name": "Python 3 (ipykernel)",
   "language": "python",
   "name": "python3"
  },
  "language_info": {
   "codemirror_mode": {
    "name": "ipython",
    "version": 3
   },
   "file_extension": ".py",
   "mimetype": "text/x-python",
   "name": "python",
   "nbconvert_exporter": "python",
   "pygments_lexer": "ipython3",
   "version": "3.9.7"
  }
 },
 "nbformat": 4,
 "nbformat_minor": 5
}
