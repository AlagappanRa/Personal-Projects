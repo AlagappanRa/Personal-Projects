{
 "cells": [
  {
   "cell_type": "markdown",
   "id": "bbdfb3c3",
   "metadata": {},
   "source": [
    "IF, ELSE, ELIF "
   ]
  },
  {
   "cell_type": "code",
   "execution_count": null,
   "id": "bacd0f2b",
   "metadata": {},
   "outputs": [],
   "source": [
    "loc = 'Auto shop'\n",
    "\n",
    "if loc == 'Bank':\n",
    "    print('Money is cool')\n",
    "    \n",
    "elif loc == 'Auto Shop':\n",
    "    print(\"Cars are cool\")\n",
    "    \n",
    "else:\n",
    "    print(\"I don't know where you are\")"
   ]
  },
  {
   "cell_type": "markdown",
   "id": "154f73a3",
   "metadata": {},
   "source": [
    "FOR "
   ]
  },
  {
   "cell_type": "code",
   "execution_count": 4,
   "id": "22697a10",
   "metadata": {},
   "outputs": [
    {
     "name": "stdout",
     "output_type": "stream",
     "text": [
      "1\n",
      "2\n",
      "3\n"
     ]
    }
   ],
   "source": [
    "# Concept of iteration\n",
    "# Iterate every item in a string, every element in a list and every key in a dictionary\n",
    "# Therefore meaning: Do something for each element/execute a certain action\n",
    "\n",
    "# For loop syntaxing\n",
    "my_iterable = [1,2,3]\n",
    "for item_name in my_iterable:\n",
    "    print(item_name) #execute some action"
   ]
  },
  {
   "cell_type": "markdown",
   "id": "621cec07",
   "metadata": {},
   "source": [
    "How for loops work:\n",
    "1. They iterate each index position through a list (ex. index 0 = 'element' 1), index 1 = 'element' 2, index 2 = 'element' 3\n",
    "2. Then, they ASSIGN the element to the item_name in the for loop statement (ex. 'element' 1 = item_name)\n",
    "3. Afterwards, they execute the action within the for loop, say PRINT(ITEM_NAME) which will output 'element' 1 for the first\n",
    "   variable"
   ]
  },
  {
   "cell_type": "code",
   "execution_count": 6,
   "id": "585c5276",
   "metadata": {},
   "outputs": [
    {
     "name": "stdout",
     "output_type": "stream",
     "text": [
      "The number 1 is odd\n",
      "The number 2 is even\n",
      "The number 3 is odd\n",
      "The number 4 is even\n",
      "The number 5 is odd\n",
      "The number 6 is even\n",
      "The number 7 is odd\n",
      "The number 8 is even\n",
      "The number 9 is odd\n",
      "The number 10 is even\n"
     ]
    }
   ],
   "source": [
    "# Even/Odd number tester\n",
    "l = [1,2,3,4,5,6,7,8,9,10]\n",
    "for _ in l:\n",
    "    if _%2 == 0:\n",
    "        print(f'The number {_} is even')\n",
    "    else:\n",
    "        print(f'The number {_} is odd')"
   ]
  },
  {
   "cell_type": "code",
   "execution_count": 11,
   "id": "065d6a1b",
   "metadata": {},
   "outputs": [
    {
     "name": "stdout",
     "output_type": "stream",
     "text": [
      "182\n"
     ]
    }
   ],
   "source": [
    "# List sum tally\n",
    "l = [1,45,63,20,7,36,7,3]\n",
    "list_sum = 0\n",
    "for _ in l:\n",
    "    list_sum = _ + list_sum\n",
    "    \n",
    "print(list_sum)"
   ]
  },
  {
   "cell_type": "code",
   "execution_count": 12,
   "id": "49afb8a9",
   "metadata": {},
   "outputs": [
    {
     "name": "stdout",
     "output_type": "stream",
     "text": [
      "H\n",
      "e\n",
      "l\n",
      "l\n",
      "o\n",
      " \n",
      "W\n",
      "o\n",
      "r\n",
      "l\n",
      "d\n"
     ]
    }
   ],
   "source": [
    "# String loop\n",
    "l = \"Hello World\"\n",
    "for _ in l:\n",
    "    print(_)"
   ]
  },
  {
   "cell_type": "code",
   "execution_count": 19,
   "id": "f8cd9f63",
   "metadata": {},
   "outputs": [
    {
     "name": "stdout",
     "output_type": "stream",
     "text": [
      "1\n",
      "2\n",
      "3\n",
      "4\n",
      "5\n"
     ]
    }
   ],
   "source": [
    "#tuple unpacking\n",
    "t= (1,2,3,4,5)\n",
    "for t in t:\n",
    "    print(t)"
   ]
  },
  {
   "cell_type": "code",
   "execution_count": 20,
   "id": "242a7e41",
   "metadata": {},
   "outputs": [
    {
     "name": "stdout",
     "output_type": "stream",
     "text": [
      "1\n",
      "2\n",
      "3\n",
      "4\n",
      "5\n",
      "6\n",
      "7\n",
      "8\n"
     ]
    }
   ],
   "source": [
    "list2= [(1,2),(3,4),(5,6),(7,8)]\n",
    "for (a,b) in list2:\n",
    "    print(a)\n",
    "    print(b)\n",
    "    "
   ]
  },
  {
   "cell_type": "code",
   "execution_count": 21,
   "id": "2d9bc8d3",
   "metadata": {},
   "outputs": [
    {
     "name": "stdout",
     "output_type": "stream",
     "text": [
      "k1\n",
      "k2\n",
      "k3\n"
     ]
    }
   ],
   "source": [
    "d = {'k1':1,'k2':2,'k3':3}\n",
    "for _ in d:\n",
    "    print(_)"
   ]
  },
  {
   "cell_type": "code",
   "execution_count": 31,
   "id": "88b19a09",
   "metadata": {},
   "outputs": [
    {
     "data": {
      "text/plain": [
       "dict_items([('k1', 1), ('k2', 2), ('k3', 3)])"
      ]
     },
     "execution_count": 31,
     "metadata": {},
     "output_type": "execute_result"
    }
   ],
   "source": [
    "d.items()\n",
    "#since it returns tuples, you can use tuple unpacking"
   ]
  },
  {
   "cell_type": "code",
   "execution_count": 44,
   "id": "77707d0f",
   "metadata": {},
   "outputs": [
    {
     "name": "stdout",
     "output_type": "stream",
     "text": [
      "k1\n",
      "k2\n",
      "k3\n"
     ]
    }
   ],
   "source": [
    "for (a,b) in d.items():\n",
    "    print(a)"
   ]
  },
  {
   "cell_type": "code",
   "execution_count": 46,
   "id": "e5f8286b",
   "metadata": {},
   "outputs": [
    {
     "name": "stdout",
     "output_type": "stream",
     "text": [
      "k1\n",
      "k2\n",
      "k3\n"
     ]
    }
   ],
   "source": [
    "for _ in d.keys():\n",
    "    print(_)"
   ]
  },
  {
   "cell_type": "code",
   "execution_count": 49,
   "id": "8dc67272",
   "metadata": {},
   "outputs": [
    {
     "data": {
      "text/plain": [
       "['k1', 'k2', 'k3']"
      ]
     },
     "execution_count": 49,
     "metadata": {},
     "output_type": "execute_result"
    }
   ],
   "source": [
    "list(d.keys())"
   ]
  },
  {
   "cell_type": "code",
   "execution_count": null,
   "id": "f0c61d0c",
   "metadata": {},
   "outputs": [],
   "source": []
  },
  {
   "cell_type": "code",
   "execution_count": null,
   "id": "82f543a3",
   "metadata": {},
   "outputs": [],
   "source": []
  }
 ],
 "metadata": {
  "kernelspec": {
   "display_name": "Python 3 (ipykernel)",
   "language": "python",
   "name": "python3"
  },
  "language_info": {
   "codemirror_mode": {
    "name": "ipython",
    "version": 3
   },
   "file_extension": ".py",
   "mimetype": "text/x-python",
   "name": "python",
   "nbconvert_exporter": "python",
   "pygments_lexer": "ipython3",
   "version": "3.9.7"
  }
 },
 "nbformat": 4,
 "nbformat_minor": 5
}
