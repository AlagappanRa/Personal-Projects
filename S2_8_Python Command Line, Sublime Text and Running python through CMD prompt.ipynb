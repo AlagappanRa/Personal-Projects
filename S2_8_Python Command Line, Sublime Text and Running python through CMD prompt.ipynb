{
 "cells": [
  {
   "cell_type": "code",
   "execution_count": 2,
   "id": "5c1f6c34",
   "metadata": {},
   "outputs": [],
   "source": [
    "# cd to change directory\n",
    "# dir to list item in the directory\n",
    "# cd .. to move back 1 directory\n",
    "# cd NameOfDirectory to move into another directory\n",
    "\n",
    "# To open any file, type NameOfFile.filetype\n",
    "# To run Python in Command prompt and access a python file, type python SPACE NameOfFile.filetype\n"
   ]
  },
  {
   "cell_type": "code",
   "execution_count": 1,
   "id": "d51f4326",
   "metadata": {},
   "outputs": [],
   "source": [
    "# https://github.com/Pierian-Data/Complete-Python-3-Bootcamp\n",
    "# For course materials"
   ]
  },
  {
   "cell_type": "code",
   "execution_count": null,
   "id": "91a9e36a",
   "metadata": {},
   "outputs": [],
   "source": [
    "# Operators\n",
    "# 2*3 = 6 - multiplied by\n",
    "# 2**3 = 8 - to the power of \n",
    "# 19 % 4 = 3 - the remainder of the division"
   ]
  }
 ],
 "metadata": {
  "kernelspec": {
   "display_name": "Python 3 (ipykernel)",
   "language": "python",
   "name": "python3"
  },
  "language_info": {
   "codemirror_mode": {
    "name": "ipython",
    "version": 3
   },
   "file_extension": ".py",
   "mimetype": "text/x-python",
   "name": "python",
   "nbconvert_exporter": "python",
   "pygments_lexer": "ipython3",
   "version": "3.9.7"
  }
 },
 "nbformat": 4,
 "nbformat_minor": 5
}
