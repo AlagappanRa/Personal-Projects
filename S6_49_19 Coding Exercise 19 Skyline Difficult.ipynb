{
 "cells": [
  {
   "cell_type": "markdown",
   "id": "bc15a05a",
   "metadata": {},
   "source": [
    "DEFINE A FUNCTION MY FUNC THAT ALTERNATES BETWEEN CAPITAL AND SMALL LETTERS IN A STRING. <br>\n",
    "IDEALLY, <br>\n",
    "EVEN = UPPERCASE <br>\n",
    "AND \n",
    "<br> ODD = LOWERCASE"
   ]
  },
  {
   "cell_type": "code",
   "execution_count": 39,
   "id": "3f96d6af",
   "metadata": {},
   "outputs": [],
   "source": [
    "# Method 1: Using enumerate() returning (index_count,letter) in tuple form and then concatenation\n",
    "def myfunc(mystr):\n",
    "    str2 = ''\n",
    "    for index_count,letter in enumerate(mystr):\n",
    "        if (index_count)%2 == 0:\n",
    "            str2 += letter.lower()\n",
    "        else:\n",
    "            str2 += letter.upper()\n",
    "    return str2"
   ]
  },
  {
   "cell_type": "code",
   "execution_count": 40,
   "id": "422e1d1f",
   "metadata": {},
   "outputs": [
    {
     "data": {
      "text/plain": [
       "'pOlYmOrPhIsM'"
      ]
     },
     "execution_count": 40,
     "metadata": {},
     "output_type": "execute_result"
    }
   ],
   "source": [
    "myfunc(\"polymorphism\")"
   ]
  },
  {
   "cell_type": "code",
   "execution_count": 37,
   "id": "7c8d53ae",
   "metadata": {},
   "outputs": [],
   "source": [
    "# Method 2: Using range(), and then concatenation\n",
    "def myfunc2(mystr):\n",
    "    mystr2 =''\n",
    "    a = len(mystr)\n",
    "    for num in range(a):\n",
    "        if num%2 == 0:\n",
    "            mystr2 += mystr[num].lower()\n",
    "        else:\n",
    "            mystr2 += mystr[num].upper()\n",
    "    return mystr2"
   ]
  },
  {
   "cell_type": "code",
   "execution_count": 38,
   "id": "abb22c02",
   "metadata": {},
   "outputs": [
    {
     "data": {
      "text/plain": [
       "'pOlYmOrPhIsM'"
      ]
     },
     "execution_count": 38,
     "metadata": {},
     "output_type": "execute_result"
    }
   ],
   "source": [
    "myfunc2(\"Polymorphism\")"
   ]
  },
  {
   "cell_type": "code",
   "execution_count": 31,
   "id": "fc3cec83",
   "metadata": {},
   "outputs": [],
   "source": [
    "# STRING ASSIGNMENT IS NOT POSSIBLE, THEREFORE WE HAVE TO CONCATENANATE 2 STRING TO GET THE FINAL STRING\n",
    "# EX. \n",
    "# mystr2 = ''\n",
    "# mystr2 += mystr[num].upper()\n",
    "# which means\n",
    "# mystr2 = mystr2 + mystr[num].upper()\n",
    "# which means\n",
    "# mystr2 = ''+ '<letter in upper case at num index count>'\n",
    "# <STRING CONCATENATION>\n",
    "# OR WE CAN APPEND TO A LIST AND THEN CONVERT THE LIST TO A STRING FOR THE FINAL STEP"
   ]
  },
  {
   "cell_type": "code",
   "execution_count": 41,
   "id": "3e981ce3",
   "metadata": {},
   "outputs": [],
   "source": [
    "# Method 3: Using enumerate(), appending the results to a list and then converting the list to a string\n",
    "def myfunc3(mystr):\n",
    "    mystr1 = []\n",
    "    str2 = ''\n",
    "    for (index_count, letter) in enumerate (mystr):\n",
    "        if index_count%2 == 0:\n",
    "            mystr1.append(letter.lower())\n",
    "        else:\n",
    "            mystr1.append(letter.upper())\n",
    "            \n",
    "    for element in mystr1:\n",
    "        str2 += element\n",
    "    return str2"
   ]
  },
  {
   "cell_type": "code",
   "execution_count": 42,
   "id": "ae4953d6",
   "metadata": {},
   "outputs": [
    {
     "data": {
      "text/plain": [
       "'pOlYmOrPhIsM'"
      ]
     },
     "execution_count": 42,
     "metadata": {},
     "output_type": "execute_result"
    }
   ],
   "source": [
    "myfunc3(\"Polymorphism\")"
   ]
  },
  {
   "cell_type": "code",
   "execution_count": 43,
   "id": "b2ef9f5e",
   "metadata": {},
   "outputs": [],
   "source": [
    "# https://www.geeksforgeeks.org/python-program-to-convert-a-list-to-string/\n",
    "# other methods include .join, and .join(map(str))"
   ]
  },
  {
   "cell_type": "code",
   "execution_count": 44,
   "id": "aea2facf",
   "metadata": {},
   "outputs": [],
   "source": [
    "# Method 4: Same logic as method 3 but using join(out)\n",
    "def myfunc4(x):\n",
    "    out = []\n",
    "    for i in range(len(x)):\n",
    "        if i%2==0:\n",
    "            out.append(x[i].lower())\n",
    "        else:\n",
    "            out.append(x[i].upper())\n",
    "    return ''.join(out)"
   ]
  },
  {
   "cell_type": "code",
   "execution_count": 45,
   "id": "dc9ab507",
   "metadata": {},
   "outputs": [
    {
     "data": {
      "text/plain": [
       "'pOlYmOrPhIsM'"
      ]
     },
     "execution_count": 45,
     "metadata": {},
     "output_type": "execute_result"
    }
   ],
   "source": [
    "myfunc4(\"Polymorphism\")"
   ]
  },
  {
   "cell_type": "code",
   "execution_count": 48,
   "id": "a61ab080",
   "metadata": {},
   "outputs": [],
   "source": [
    "# Method 5: Disgusting list comprehension within join()\n",
    "def myfunc5(s): \n",
    "    return ''.join(char.upper() if i%2 else char.lower() for i, char in enumerate(s))"
   ]
  },
  {
   "cell_type": "code",
   "execution_count": 47,
   "id": "f7bb6277",
   "metadata": {},
   "outputs": [
    {
     "data": {
      "text/plain": [
       "'pOlYmOrPhIsM'"
      ]
     },
     "execution_count": 47,
     "metadata": {},
     "output_type": "execute_result"
    }
   ],
   "source": [
    "myfunc5(\"polymorphism\")"
   ]
  },
  {
   "cell_type": "code",
   "execution_count": 3,
   "id": "58270f97",
   "metadata": {},
   "outputs": [],
   "source": [
    "# Method 6: List comprehension for upper,lower and reassigning using indexing/slicing betweeen 2 lists\n",
    "def myfunc7(my_string):\n",
    "    # use slicing and list comprehension to upper/lower case letters\n",
    "    even_letters = [i.upper() for i in my_string[0::2]]\n",
    "    print(even_letters)\n",
    "    odd_letters = [i.lower() for i in my_string[1::2]]\n",
    "    print(odd_letters)\n",
    "    \n",
    "    # define a new list with the same number of objects as there are characters in the string, using None as a place holder\n",
    "    new_list = [None for _ in my_string]\n",
    "    print(new_list)\n",
    "    # these also work:\n",
    "    # new_list = [None] * len(my_string)\n",
    "    # new_list = [None] * (len(even_letters) + len(odd_letters))\n",
    "    \n",
    "    # swap place holder objects in new_list with the letters (alternating using step)\n",
    "    new_list[::2] = even_letters\n",
    "    new_list[1::2] = odd_letters\n",
    "    \n",
    "    # join new_list items into a string and return\n",
    "    return ''.join(new_list)"
   ]
  },
  {
   "cell_type": "code",
   "execution_count": 4,
   "id": "ca26f896",
   "metadata": {},
   "outputs": [
    {
     "name": "stdout",
     "output_type": "stream",
     "text": [
      "['P', 'L', 'M', 'R', 'H', 'S']\n",
      "['o', 'y', 'o', 'p', 'i', 'm']\n",
      "[None, None, None, None, None, None, None, None, None, None, None, None]\n"
     ]
    },
    {
     "data": {
      "text/plain": [
       "'PoLyMoRpHiSm'"
      ]
     },
     "execution_count": 4,
     "metadata": {},
     "output_type": "execute_result"
    }
   ],
   "source": [
    "myfunc7 (\"Polymorphism\")"
   ]
  },
  {
   "cell_type": "code",
   "execution_count": 1,
   "id": "9725484c",
   "metadata": {},
   "outputs": [],
   "source": [
    "#  You cannot reassign elements within a string but you can reassign elements within a list"
   ]
  },
  {
   "cell_type": "code",
   "execution_count": 1,
   "id": "c0a3e99c",
   "metadata": {},
   "outputs": [],
   "source": [
    "# Method 7: The JAVA method (n+1 counter) instead of for looping the range\n",
    "def myfunc8(text):\n",
    "    n = 1\n",
    "    new_text = ''\n",
    "    for i in text:\n",
    "        if n%2 == 0:\n",
    "            new_text += i.upper()\n",
    "            n += 1\n",
    "        else:\n",
    "            new_text += i.lower()\n",
    "            n += 1\n",
    "    return new_text"
   ]
  },
  {
   "cell_type": "code",
   "execution_count": 2,
   "id": "884fc0be",
   "metadata": {},
   "outputs": [
    {
     "data": {
      "text/plain": [
       "'pOlYmOrPhIsM'"
      ]
     },
     "execution_count": 2,
     "metadata": {},
     "output_type": "execute_result"
    }
   ],
   "source": [
    "myfunc8 (\"Polymorphism\")"
   ]
  }
 ],
 "metadata": {
  "kernelspec": {
   "display_name": "Python 3 (ipykernel)",
   "language": "python",
   "name": "python3"
  },
  "language_info": {
   "codemirror_mode": {
    "name": "ipython",
    "version": 3
   },
   "file_extension": ".py",
   "mimetype": "text/x-python",
   "name": "python",
   "nbconvert_exporter": "python",
   "pygments_lexer": "ipython3",
   "version": "3.9.7"
  }
 },
 "nbformat": 4,
 "nbformat_minor": 5
}
