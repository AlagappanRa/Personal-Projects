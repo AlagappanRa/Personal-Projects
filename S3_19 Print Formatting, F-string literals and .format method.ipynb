{
 "cells": [
  {
   "cell_type": "code",
   "execution_count": 1,
   "id": "d6f256cf",
   "metadata": {},
   "outputs": [],
   "source": [
    "name = \"Jose\""
   ]
  },
  {
   "cell_type": "code",
   "execution_count": 3,
   "id": "78e7c981",
   "metadata": {},
   "outputs": [
    {
     "name": "stdout",
     "output_type": "stream",
     "text": [
      "His name is Jose\n"
     ]
    }
   ],
   "source": [
    "print(\"His name is \" + name)"
   ]
  },
  {
   "cell_type": "code",
   "execution_count": 5,
   "id": "81fc9f85",
   "metadata": {},
   "outputs": [
    {
     "name": "stdout",
     "output_type": "stream",
     "text": [
      "His name is Jose\n"
     ]
    }
   ],
   "source": [
    "# .format printing method\n",
    "print(\"His name is {y}\".format(y = \"Jose\"))"
   ]
  },
  {
   "cell_type": "code",
   "execution_count": 12,
   "id": "71f710c8",
   "metadata": {},
   "outputs": [
    {
     "name": "stdout",
     "output_type": "stream",
     "text": [
      "The number is 100.675\n"
     ]
    }
   ],
   "source": [
    "# Float formatting, very confusing syntax\n",
    "# print (\"String {value:width.digits after the decimal/precision}\".format(value)})\n",
    "\n",
    "number = 100.67543\n",
    "print(\"The number is {:1.3f}\".format(number))"
   ]
  },
  {
   "cell_type": "code",
   "execution_count": 14,
   "id": "61cac8fb",
   "metadata": {},
   "outputs": [
    {
     "name": "stdout",
     "output_type": "stream",
     "text": [
      "His name is Jose\n"
     ]
    }
   ],
   "source": [
    "# String literal method \n",
    "# For the String literal method f should be attached to the string, still the same {} as .format\n",
    "\n",
    "name = \"Jose\"\n",
    "print(f\"His name is {name}\")"
   ]
  },
  {
   "cell_type": "code",
   "execution_count": 16,
   "id": "5c3f2ef6",
   "metadata": {},
   "outputs": [
    {
     "name": "stdout",
     "output_type": "stream",
     "text": [
      "His name is Tom, and his age is 23\n"
     ]
    }
   ],
   "source": [
    "name = \"Tom\"\n",
    "age = \"23\"\n",
    "\n",
    "print(f\"His name is {name}, and his age is {age}\")"
   ]
  },
  {
   "cell_type": "code",
   "execution_count": 11,
   "id": "3f346746",
   "metadata": {},
   "outputs": [
    {
     "data": {
      "text/plain": [
       "'Python rules!'"
      ]
     },
     "execution_count": 11,
     "metadata": {},
     "output_type": "execute_result"
    }
   ],
   "source": [
    "# Using float formatting for String works as well, except defining the last argument of the variables\n",
    "\n",
    "\"{0:3} {1:6}\".format (\"Python\", \"rules!\")"
   ]
  },
  {
   "cell_type": "code",
   "execution_count": null,
   "id": "5dab7f49",
   "metadata": {},
   "outputs": [],
   "source": []
  }
 ],
 "metadata": {
  "kernelspec": {
   "display_name": "Python 3 (ipykernel)",
   "language": "python",
   "name": "python3"
  },
  "language_info": {
   "codemirror_mode": {
    "name": "ipython",
    "version": 3
   },
   "file_extension": ".py",
   "mimetype": "text/x-python",
   "name": "python",
   "nbconvert_exporter": "python",
   "pygments_lexer": "ipython3",
   "version": "3.9.7"
  }
 },
 "nbformat": 4,
 "nbformat_minor": 5
}
